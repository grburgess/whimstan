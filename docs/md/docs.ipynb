{
 "cells": [
  {
   "cell_type": "markdown",
   "id": "cd1b0348-0dda-4d96-8adc-995fdbce0a81",
   "metadata": {},
   "source": [
    "# Intro\n",
    "\n",
    "This is a simple tool to allow scripting of the awesome [XRT website](https://www.swift.ac.uk/xrt_products/index.php). The official API (which does a lot more) can be found [here](https://www.swift.ac.uk/user_objects/API/). \n",
    "\n",
    "These tools extend the functionality a bit. "
   ]
  },
  {
   "cell_type": "code",
   "execution_count": 1,
   "id": "b7a0e055-ea92-4425-9115-51919db1e7c3",
   "metadata": {},
   "outputs": [
    {
     "ename": "ModuleNotFoundError",
     "evalue": "No module named 'xrt_spec_dl'",
     "output_type": "error",
     "traceback": [
      "\u001b[0;31m---------------------------------------------------------------------------\u001b[0m",
      "\u001b[0;31mModuleNotFoundError\u001b[0m                       Traceback (most recent call last)",
      "\u001b[0;32m/var/folders/_0/x_8bb4nj2g1fwkn77r2wv5_40000gn/T/ipykernel_40991/2693329446.py\u001b[0m in \u001b[0;36m<module>\u001b[0;34m\u001b[0m\n\u001b[1;32m      1\u001b[0m \u001b[0mget_ipython\u001b[0m\u001b[0;34m(\u001b[0m\u001b[0;34m)\u001b[0m\u001b[0;34m.\u001b[0m\u001b[0mrun_line_magic\u001b[0m\u001b[0;34m(\u001b[0m\u001b[0;34m'matplotlib'\u001b[0m\u001b[0;34m,\u001b[0m \u001b[0;34m'inline'\u001b[0m\u001b[0;34m)\u001b[0m\u001b[0;34m\u001b[0m\u001b[0;34m\u001b[0m\u001b[0m\n\u001b[1;32m      2\u001b[0m \u001b[0;34m\u001b[0m\u001b[0m\n\u001b[0;32m----> 3\u001b[0;31m \u001b[0;32mfrom\u001b[0m \u001b[0mxrt_spec_dl\u001b[0m \u001b[0;32mimport\u001b[0m \u001b[0mXRTLightCurve\u001b[0m\u001b[0;34m,\u001b[0m \u001b[0mdownload_xrt_spectral_data\u001b[0m\u001b[0;34m\u001b[0m\u001b[0;34m\u001b[0m\u001b[0m\n\u001b[0m",
      "\u001b[0;31mModuleNotFoundError\u001b[0m: No module named 'xrt_spec_dl'"
     ]
    }
   ],
   "source": [
    "%matplotlib inline\n",
    "\n",
    "from xrt_spec_dl import XRTLightCurve, download_xrt_spectral_data\n"
   ]
  },
  {
   "cell_type": "markdown",
   "id": "dbc483fe-b6dc-4d51-814d-5aee5bdac2bf",
   "metadata": {},
   "source": [
    "## Downloading Spectra\n",
    "\n",
    "This allows you to download time-sliced spectra for spectral analysis. You can choose PC or WT mode."
   ]
  },
  {
   "cell_type": "code",
   "execution_count": 2,
   "id": "4d20f844-6aa6-452b-bc34-67a6d77af5af",
   "metadata": {},
   "outputs": [],
   "source": [
    "obs_id = \"01071993\"\n",
    "\n",
    "grb = \"210905A\""
   ]
  },
  {
   "cell_type": "code",
   "execution_count": null,
   "id": "5175bce2-a60b-4d83-bb08-188e28f8dbb2",
   "metadata": {},
   "outputs": [],
   "source": [
    "download_xrt_spectral_data(obs_id=obs_id,\n",
    "    name=f\"GRB {grb}\",\n",
    "    mode=\"PC\",\n",
    "    tstart=239,\n",
    "    tstop=446,\n",
    "    destination_dir=\".\")\n",
    "\n",
    "\n",
    "!ls\n"
   ]
  },
  {
   "cell_type": "markdown",
   "id": "db54685d-b823-435e-8dc9-2bd5f54ba4c4",
   "metadata": {},
   "source": [
    "## Downloading Light curves\n",
    "\n",
    "To get the light curve data for plotting purposes, we need to know the obs_id of the GRB. the class will look at the Swift data online and pull it for making plots. In the future, a cache options will be included for off-line use. \n"
   ]
  },
  {
   "cell_type": "code",
   "execution_count": 3,
   "id": "4fb253a8-9dce-465a-8456-4fd60019b842",
   "metadata": {},
   "outputs": [],
   "source": [
    "lc = XRTLightCurve(obs_id=obs_id)"
   ]
  },
  {
   "cell_type": "markdown",
   "id": "e34f5a52-8806-4827-998a-92f4fbba6bca",
   "metadata": {},
   "source": [
    "The WT and PC data exist as astropy tables."
   ]
  },
  {
   "cell_type": "code",
   "execution_count": 4,
   "id": "22a47dd1-8057-40eb-a656-34dbaaa592dc",
   "metadata": {},
   "outputs": [
    {
     "data": {
      "text/html": [
       "<div><i>Table length=144</i>\n",
       "<table id=\"table4618554288\" class=\"table-striped table-bordered table-condensed\">\n",
       "<thead><tr><th>time</th><th>time_perr</th><th>time_nerr</th><th>rate</th><th>rate_perr</th><th>rate_nerr</th><th>bkg</th><th>bkg_err</th><th>fracexp</th></tr></thead>\n",
       "<thead><tr><th>float64</th><th>float64</th><th>float64</th><th>float64</th><th>float64</th><th>float64</th><th>float64</th><th>float64</th><th>float64</th></tr></thead>\n",
       "<tr><td>98.6</td><td>0.494</td><td>-0.587</td><td>46.12369</td><td>6.87576</td><td>-6.876381</td><td>0.0</td><td>0.0</td><td>1.0</td></tr>\n",
       "<tr><td>...</td><td>...</td><td>...</td><td>...</td><td>...</td><td>...</td><td>...</td><td>...</td><td>...</td></tr>\n",
       "<tr><td>408.24</td><td>0.547</td><td>-0.485</td><td>47.25271</td><td>7.188487</td><td>-7.188536</td><td>0.6580304</td><td>0.6580304</td><td>1.0</td></tr>\n",
       "<tr><td>409.253</td><td>0.494</td><td>-0.466</td><td>51.53035</td><td>7.681699</td><td>-7.681759</td><td>0.0</td><td>0.0</td><td>1.0</td></tr>\n",
       "</table></div>"
      ],
      "text/plain": [
       "<Table length=144>\n",
       "  time  time_perr time_nerr   rate   rate_perr rate_nerr    bkg     bkg_err  fracexp\n",
       "float64  float64   float64  float64   float64   float64   float64   float64  float64\n",
       "------- --------- --------- -------- --------- --------- --------- --------- -------\n",
       "   98.6     0.494    -0.587 46.12369   6.87576 -6.876381       0.0       0.0     1.0\n",
       "    ...       ...       ...      ...       ...       ...       ...       ...     ...\n",
       " 408.24     0.547    -0.485 47.25271  7.188487 -7.188536 0.6580304 0.6580304     1.0\n",
       "409.253     0.494    -0.466 51.53035  7.681699 -7.681759       0.0       0.0     1.0"
      ]
     },
     "execution_count": 4,
     "metadata": {},
     "output_type": "execute_result"
    }
   ],
   "source": [
    "lc.wt_data"
   ]
  },
  {
   "cell_type": "code",
   "execution_count": 5,
   "id": "d064193e-e1ac-419b-b29b-a1fd7b6421cd",
   "metadata": {},
   "outputs": [
    {
     "data": {
      "text/html": [
       "<div><i>Table length=46</i>\n",
       "<table id=\"table4618553664\" class=\"table-striped table-bordered table-condensed\">\n",
       "<thead><tr><th>time</th><th>time_perr</th><th>time_nerr</th><th>rate</th><th>rate_perr</th><th>rate_nerr</th><th>bkg</th><th>bkg_err</th><th>fracexp</th></tr></thead>\n",
       "<thead><tr><th>float64</th><th>float64</th><th>float64</th><th>float64</th><th>float64</th><th>float64</th><th>float64</th><th>float64</th><th>float64</th></tr></thead>\n",
       "<tr><td>257.813</td><td>11.352</td><td>-8.706</td><td>4.372901</td><td>0.9596635</td><td>-0.9596635</td><td>0.00582634</td><td>0.00291317</td><td>1.0</td></tr>\n",
       "<tr><td>...</td><td>...</td><td>...</td><td>...</td><td>...</td><td>...</td><td>...</td><td>...</td><td>...</td></tr>\n",
       "<tr><td>1418780.46</td><td>352287.473</td><td>-181877.223</td><td>0.003075002</td><td>0.0005201644</td><td>-0.0005201644</td><td>0.0003124656</td><td>7.748934e-06</td><td>0.03871</td></tr>\n",
       "<tr><td>2570092.604</td><td>1007877.584</td><td>-272644.863</td><td>0.0006538729</td><td>0.0002275809</td><td>-0.0002275809</td><td>0.0001492451</td><td>3.738143e-06</td><td>0.020244</td></tr>\n",
       "</table></div>"
      ],
      "text/plain": [
       "<Table length=46>\n",
       "    time     time_perr   time_nerr      rate     ...     bkg        bkg_err    fracexp \n",
       "  float64     float64     float64     float64    ...   float64      float64    float64 \n",
       "----------- ----------- ----------- ------------ ... ------------ ------------ --------\n",
       "    257.813      11.352      -8.706     4.372901 ...   0.00582634   0.00291317      1.0\n",
       "        ...         ...         ...          ... ...          ...          ...      ...\n",
       " 1418780.46  352287.473 -181877.223  0.003075002 ... 0.0003124656 7.748934e-06  0.03871\n",
       "2570092.604 1007877.584 -272644.863 0.0006538729 ... 0.0001492451 3.738143e-06 0.020244"
      ]
     },
     "execution_count": 5,
     "metadata": {},
     "output_type": "execute_result"
    }
   ],
   "source": [
    "lc.pc_data"
   ]
  },
  {
   "cell_type": "markdown",
   "id": "55c87ae1-b3e4-448a-a1c4-6bb473dbeb6a",
   "metadata": {},
   "source": [
    "Finally, we can plot the data"
   ]
  },
  {
   "cell_type": "code",
   "execution_count": 6,
   "id": "6cf10d19-c036-411d-902a-6ec6c005f744",
   "metadata": {},
   "outputs": [
    {
     "data": {
      "image/png": "[encoded data removed]",
      "text/plain": [
       "<Figure size 432x288 with 1 Axes>"
      ]
     },
     "metadata": {
      "needs_background": "light"
     },
     "output_type": "display_data"
    }
   ],
   "source": [
    "lc.plot(pc_mode=True, wt_mode=True);"
   ]
  },
  {
   "cell_type": "code",
   "execution_count": null,
   "id": "0be38d57-bde3-4605-9af9-ce72567fa8b9",
   "metadata": {},
   "outputs": [],
   "source": []
  }
 ],
 "metadata": {
  "jupytext": {
   "formats": "ipynb,md"
  },
  "kernelspec": {
   "display_name": "Python 3 (ipykernel)",
   "language": "python",
   "name": "python3"
  },
  "language_info": {
   "codemirror_mode": {
    "name": "ipython",
    "version": 3
   },
   "file_extension": ".py",
   "mimetype": "text/x-python",
   "name": "python",
   "nbconvert_exporter": "python",
   "pygments_lexer": "ipython3",
   "version": "3.9.9"
  },
  "widgets": {
   "application/vnd.jupyter.widget-state+json": {
    "state": {},
    "version_major": 2,
    "version_minor": 0
   }
  }
 },
 "nbformat": 4,
 "nbformat_minor": 5
}
