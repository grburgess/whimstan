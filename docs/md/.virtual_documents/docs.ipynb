get_ipython().run_line_magic("matplotlib", " inline")

from xrt_spec_dl import XRTLightCurve, download_xrt_spectral_data



obs_id = "01071993"

grb = "210905A"


download_xrt_spectral_data(obs_id=obs_id,
    name=f"GRB {grb}",
    mode="PC",
    tstart=239,
    tstop=446,
    destination_dir=".")


get_ipython().getoutput("ls")



lc = XRTLightCurve(obs_id=obs_id)


lc.wt_data


lc.pc_data


lc.plot(pc_mode=True, wt_mode=True);



