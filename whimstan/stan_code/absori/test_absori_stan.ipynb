{
 "cells": [
  {
   "cell_type": "code",
   "execution_count": 20,
   "id": "alike-bahamas",
   "metadata": {
    "ExecuteTime": {
     "end_time": "2021-03-24T16:14:58.819160Z",
     "start_time": "2021-03-24T16:14:58.503134Z"
    }
   },
   "outputs": [],
   "source": [
    "from bb_astromodels.xray.absorption import integrate_absori\n",
    "from scipy.interpolate import interp1d\n",
    "import numpy as np\n",
    "\n",
    "x=np.logspace(0,2,100)\n",
    "n0=10**-5\n",
    "z=2.23\n",
    "temp=10**4\n",
    "xi=30\n",
    "gamma=2\n",
    "abundance=0\n",
    "fe_abundance=0\n",
    "\n",
    "# get the \"true absori\"\n",
    "int_abs = integrate_absori()\n",
    "astro_intabso = int_abs.evaluate(x=x, n0=n0, redshift=z, temp=temp, xi=xi,\n",
    "                           gamma=gamma, abundance=abundance, fe_abundance=fe_abundance)\n",
    "\n",
    "# put some mock gaussian noise on it for testing\n",
    "observed = np.random.normal(astro_intabso, scale=0.1)\n",
    "\n",
    "# interpolate all the sigma matrices for all input energies and redshift combinations\n",
    "# a bit messy at the moment\n",
    "def interpolate_sigma(x):\n",
    "    res = np.zeros((100, 50*10, 26, 10))\n",
    "    mask = x<int_abs._base_energy[-1]\n",
    "    res[mask]=sigma_interp(x[mask])\n",
    "    \n",
    "    res[~mask] = np.expand_dims(int_abs._sigma[720], axis=0)\n",
    "    res[~mask] *= np.expand_dims(np.power((x[~mask]/int_abs._base_energy[-1]),-3.0), axis=(1,2))\n",
    "    return res\n",
    "sigma_interp = interp1d(int_abs._base_energy, int_abs._sigma,axis=0)\n",
    "energy_z = np.zeros((100, 500))\n",
    "for i in range(energy_z.shape[1]):\n",
    "    energy_z[:,i]=(((i+1)*0.02-0.01)+1)*x\n",
    "sigma_inter = interpolate_sigma(energy_z*1000)\n",
    "sigma_inter=np.swapaxes(sigma_inter, 0, 1)\n",
    "sigma_inter=np.swapaxes(sigma_inter, 2,3)\n",
    "\n",
    "ab = int_abs._load_abundance()\n",
    "ab[2:-1]*= 10**abundance\n",
    "ab[-1] *= 10**fe_abundance\n",
    "\n",
    "\n",
    "# stan data dict - free T and n0\n",
    "data_dict = {\"sigma\": int_abs._sigma.T,\"ion\": int_abs._ion, \"atomicnumber\": int_abs._atomicnumber, \"e_edges\": x, \n",
    "             \"spec\": int_abs._calc_ion_spec(2), \"z\": z, \"xi\": xi, \"sigma_interp\": sigma_inter, \n",
    "             \"abundance\":ab, \"observed\": observed}"
   ]
  },
  {
   "cell_type": "code",
   "execution_count": 21,
   "id": "medical-devices",
   "metadata": {
    "ExecuteTime": {
     "end_time": "2021-03-24T16:14:59.424022Z",
     "start_time": "2021-03-24T16:14:59.419233Z"
    }
   },
   "outputs": [
    {
     "name": "stderr",
     "output_type": "stream",
     "text": [
      "INFO:cmdstanpy:found newer exe file, not recompiling\n",
      "INFO:cmdstanpy:compiled model file: /home/bjorn/Documents/jupyter/pyspi_notebooks/test\n"
     ]
    }
   ],
   "source": [
    "import cmdstanpy\n",
    "cmdstanpy.set_cmdstan_path(\"/home/bjorn/general_sw/cmdstan-2.26.0-rc1\")\n",
    "\n",
    "model = cmdstanpy.CmdStanModel(\n",
    "    stan_file=\"test.stan\"\n",
    ")"
   ]
  },
  {
   "cell_type": "code",
   "execution_count": 31,
   "id": "changing-circular",
   "metadata": {
    "ExecuteTime": {
     "end_time": "2021-03-24T16:46:35.754213Z",
     "start_time": "2021-03-24T16:24:40.484245Z"
    },
    "scrolled": true
   },
   "outputs": [
    {
     "name": "stderr",
     "output_type": "stream",
     "text": [
      "Chain 1 - warmup:   0%|          | 0/1 [00:00<?, ?it/s]\n",
      "Chain 2 - warmup:   0%|          | 0/1 [00:00<?, ?it/s]\u001b[A\n",
      "\n",
      "Chain 1 - warmup:   0%|          | 0/1 [00:00<?, ?it/s]\u001b[A\u001b[A\n",
      "Chain 2 - warmup:   0%|          | 0/1 [00:00<?, ?it/s]\u001b[A\n",
      "\n",
      "\n",
      "Chain 4 - warmup:   0%|          | 0/1 [00:00<?, ?it/s]\u001b[A\u001b[A\u001b[A\n",
      "\n",
      "Chain 3 - warmup:   0%|          | 0/1 [00:00<?, ?it/s]\u001b[A\u001b[A\n",
      "\n",
      "\n",
      "Chain 4 - warmup:   0%|          | 0/1 [00:00<?, ?it/s]\u001b[A\u001b[A\u001b[A\n",
      "\n",
      "Chain 1 - warmup:   0%|          | 0/1000 [00:00<?, ?it/s]\u001b[A\u001b[A\n",
      "\n",
      "\n",
      "Chain 4 - warmup:   0%|          | 0/1000 [00:00<?, ?it/s]\u001b[A\u001b[A\u001b[A\n",
      "Chain 2 - warmup:   0%|          | 0/1000 [00:00<?, ?it/s]\u001b[A\n",
      "\n",
      "\n",
      "Chain 4 - warmup:  10%|█         | 100/1000 [04:14<38:11,  2.55s/it]\u001b[A\u001b[A\u001b[A\n",
      "\n",
      "Chain 3 - warmup:  10%|█         | 100/1000 [05:30<49:36,  3.31s/it]\u001b[A\u001b[A\n",
      "Chain 2 - warmup:  10%|█         | 100/1000 [05:30<49:37,  3.31s/it]\u001b[A\n",
      "\n",
      "\n",
      "Chain 1 - warmup:  10%|█         | 100/1000 [07:33<1:07:58,  4.53s/it]A\u001b[A\u001b[A\n",
      "Chain 2 - warmup:  20%|██        | 200/1000 [07:49<29:02,  2.18s/it]\u001b[A\n",
      "\n",
      "Chain 3 - warmup:  20%|██        | 200/1000 [08:05<30:19,  2.27s/it]\u001b[A\u001b[A\n",
      "\n",
      "\n",
      "Chain 4 - warmup:  30%|███       | 300/1000 [08:14<17:11,  1.47s/it]\u001b[A\u001b[A\u001b[A\n",
      "Chain 2 - warmup:  30%|███       | 300/1000 [09:40<19:43,  1.69s/it]\u001b[A\n",
      "\n",
      "\n",
      "Chain 4 - warmup:  40%|████      | 400/1000 [09:43<12:25,  1.24s/it]\u001b[A\u001b[A\u001b[A\n",
      "\n",
      "Chain 1 - warmup:  20%|██        | 200/1000 [09:52<35:50,  2.69s/it]  A\u001b[A\n",
      "Chain 2 - warmup:  40%|████      | 400/1000 [11:12<13:51,  1.39s/it]\u001b[A\n",
      "\n",
      "Chain 3 - warmup:  40%|████      | 400/1000 [11:31<14:23,  1.44s/it]\u001b[A\u001b[A\n",
      "\n",
      "\n",
      "Chain 4 - warmup:  50%|█████     | 500/1000 [11:36<10:00,  1.20s/it]\u001b[A\u001b[A\u001b[A\n",
      "\n",
      "\n",
      "Chain 4 - sample:  50%|█████     | 500/1000 [11:37<10:00,  1.20s/it]\u001b[A\u001b[A\u001b[A\n",
      "\n",
      "\n",
      "Chain 1 - warmup:  30%|███       | 300/1000 [11:47<23:08,  1.98s/it]\u001b[A\u001b[A\u001b[A\n",
      "Chain 2 - warmup:  50%|█████     | 500/1000 [13:12<10:59,  1.32s/it]\u001b[A\n",
      "Chain 2 - sample:  50%|█████     | 500/1000 [13:13<10:59,  1.32s/it]\u001b[A\n",
      "Chain 2 - sample:  50%|█████     | 501/1000 [13:13<10:56,  1.31s/it]\u001b[A\n",
      "\n",
      "Chain 3 - warmup:  50%|█████     | 500/1000 [13:19<10:54,  1.31s/it]\u001b[A\u001b[A\n",
      "\n",
      "Chain 3 - sample:  50%|█████     | 500/1000 [13:21<10:54,  1.31s/it]\u001b[A\u001b[A\n",
      "\n",
      "Chain 3 - sample:  50%|█████     | 501/1000 [13:21<10:53,  1.31s/it]\u001b[A\u001b[A\n",
      "\n",
      "\n",
      "Chain 1 - warmup:  40%|████      | 400/1000 [13:37<16:22,  1.64s/it]\u001b[A\u001b[A\u001b[A\n",
      "\n",
      "Chain 3 - sample:  60%|██████    | 600/1000 [14:38<07:14,  1.09s/it]\u001b[A\u001b[A\n",
      "Chain 2 - sample:  60%|██████    | 600/1000 [14:50<07:50,  1.18s/it]\u001b[A\n",
      "\n",
      "\n",
      "Chain 1 - sample:  50%|█████     | 501/1000 [15:33<12:06,  1.46s/it]\u001b[A\u001b[A\u001b[A\n",
      "\n",
      "Chain 3 - sample:  70%|███████   | 700/1000 [16:04<05:00,  1.00s/it]\u001b[A\u001b[A\n",
      "Chain 2 - sample:  70%|███████   | 700/1000 [16:32<05:34,  1.12s/it]\u001b[A\n",
      "\n",
      "\n",
      "Chain 1 - sample:  60%|██████    | 600/1000 [17:18<08:35,  1.29s/it]\u001b[A\u001b[A\u001b[A\n",
      "\n",
      "Chain 3 - sample:  80%|████████  | 800/1000 [17:38<03:16,  1.02it/s]\u001b[A\u001b[A\n",
      "Chain 2 - sample:  80%|████████  | 800/1000 [17:59<03:26,  1.03s/it]\u001b[A\n",
      "\n",
      "\n",
      "Chain 1 - sample:  70%|███████   | 700/1000 [18:55<05:50,  1.17s/it]\u001b[A\u001b[A\u001b[A\n",
      "\n",
      "Chain 3 - sample:  90%|█████████ | 900/1000 [19:07<01:34,  1.05it/s]\u001b[A\u001b[A\n",
      "Chain 2 - sample:  90%|█████████ | 900/1000 [19:28<01:38,  1.02it/s]\u001b[A\n",
      "\n",
      "\n",
      "Chain 4 - sample: 100%|██████████| 1000/1000 [19:49<00:00,  1.00it/s]\u001b[A\u001b[A\u001b[A\n",
      "\n",
      "\n",
      "Chain 4 -   done: 100%|██████████| 1000/1000 [19:50<00:00,  1.00it/s]\u001b[A\u001b[A\u001b[A\n",
      "\n",
      "Chain 3 - sample: 100%|██████████| 1000/1000 [20:23<00:00,  1.13it/s]\u001b[A\u001b[A\n",
      "\n",
      "Chain 1 - sample:  80%|████████  | 800/1000 [20:27<03:36,  1.08s/it]]\u001b[A\u001b[A\n",
      "Chain 2 - sample: 100%|██████████| 1000/1000 [20:44<00:00,  1.10it/s]\u001b[A\n",
      "Chain 1 -   done: 100%|██████████| 1000/1000 [21:39<00:00,  1.30s/it]\u001b[A\n",
      "Chain 2 -   done: 100%|██████████| 1000/1000 [21:39<00:00,  1.30s/it]\n",
      "Chain 3 -   done: 100%|██████████| 1000/1000 [21:39<00:00,  1.30s/it]\n",
      "Chain 4 -   done: 100%|██████████| 1000/1000 [21:39<00:00,  1.30s/it]\n"
     ]
    }
   ],
   "source": [
    "f = model.sample(data=data_dict, output_dir=\"./\", chains=4, parallel_chains=4, \n",
    "                 iter_warmup=500, iter_sampling=500, show_progress=True)"
   ]
  },
  {
   "cell_type": "code",
   "execution_count": 32,
   "id": "interesting-breath",
   "metadata": {
    "ExecuteTime": {
     "end_time": "2021-03-24T16:46:42.430425Z",
     "start_time": "2021-03-24T16:46:42.249273Z"
    }
   },
   "outputs": [],
   "source": [
    "import arviz as av\n",
    "av_res = av.from_cmdstanpy(f)"
   ]
  },
  {
   "cell_type": "code",
   "execution_count": 34,
   "id": "greatest-balloon",
   "metadata": {
    "ExecuteTime": {
     "end_time": "2021-03-24T16:50:47.919870Z",
     "start_time": "2021-03-24T16:50:47.707353Z"
    }
   },
   "outputs": [
    {
     "data": {
      "text/plain": [
       "<matplotlib.axes._subplots.AxesSubplot at 0x7fd4875e6490>"
      ]
     },
     "execution_count": 34,
     "metadata": {},
     "output_type": "execute_result"
    },
    {
     "data": {
      "image/png": "[encoded data removed]",
      "text/plain": [
       "<Figure size 432x288 with 1 Axes>"
      ]
     },
     "metadata": {
      "needs_background": "light"
     },
     "output_type": "display_data"
    }
   ],
   "source": [
    "av.plot_pair(av_res, var_names=[\"logn0\", \"logt\"], kind=\"kde\", \n",
    "             reference_values={\"logn0\": -5, \"logt\": 4}, reference_values_kwargs={\"color\": \"red\"})"
   ]
  },
  {
   "cell_type": "code",
   "execution_count": 45,
   "id": "green-newman",
   "metadata": {
    "ExecuteTime": {
     "end_time": "2021-03-24T16:55:31.922153Z",
     "start_time": "2021-03-24T16:55:31.027627Z"
    }
   },
   "outputs": [
    {
     "data": {
      "image/png": "[encoded data removed]",
      "text/plain": [
       "<Figure size 432x288 with 1 Axes>"
      ]
     },
     "metadata": {
      "needs_background": "light"
     },
     "output_type": "display_data"
    }
   ],
   "source": [
    "import matplotlib.pyplot as plt\n",
    "\n",
    "plt.scatter(x, observed, s=3, color=\"black\", label=\"data\")\n",
    "plt.plot(x, astro_intabso, color=\"crimson\", label=\"Sim\")\n",
    "plt.plot(x, av_res.posterior.abs.data[0].T, color=\"lightgreen\", alpha=0.01);\n",
    "plt.legend()\n",
    "plt.xscale(\"log\")"
   ]
  },
  {
   "cell_type": "code",
   "execution_count": null,
   "id": "former-colonial",
   "metadata": {},
   "outputs": [],
   "source": []
  }
 ],
 "metadata": {
  "kernelspec": {
   "display_name": "p3_newtest",
   "language": "python",
   "name": "p3_newtest"
  },
  "language_info": {
   "codemirror_mode": {
    "name": "ipython",
    "version": 3
   },
   "file_extension": ".py",
   "mimetype": "text/x-python",
   "name": "python",
   "nbconvert_exporter": "python",
   "pygments_lexer": "ipython3",
   "version": "3.8.2"
  },
  "latex_envs": {
   "LaTeX_envs_menu_present": true,
   "autoclose": false,
   "autocomplete": true,
   "bibliofile": "biblio.bib",
   "cite_by": "apalike",
   "current_citInitial": 1,
   "eqLabelWithNumbers": true,
   "eqNumInitial": 1,
   "hotkeys": {
    "equation": "Ctrl-E",
    "itemize": "Ctrl-I"
   },
   "labels_anchors": false,
   "latex_user_defs": false,
   "report_style_numbering": false,
   "user_envs_cfg": false
  },
  "toc": {
   "base_numbering": 1,
   "nav_menu": {},
   "number_sections": true,
   "sideBar": true,
   "skip_h1_title": false,
   "title_cell": "Table of Contents",
   "title_sidebar": "Contents",
   "toc_cell": false,
   "toc_position": {},
   "toc_section_display": true,
   "toc_window_display": false
  }
 },
 "nbformat": 4,
 "nbformat_minor": 5
}
