{
 "cells": [
  {
   "cell_type": "markdown",
   "id": "3e4007c1",
   "metadata": {},
   "source": [
    "# Working with data\n",
    "\n",
    "Regardless of rather we have real or simulated data, the main interface for `whimstan` to x-ray data is via the `Database` object which we can use to both examine the data as well as ship the data off to Stan.\n",
    "\n",
    "First, let's examine the simulated data we created in the previous section.\n"
   ]
  },
  {
   "cell_type": "code",
   "execution_count": 1,
   "id": "f19bf501",
   "metadata": {
    "execution": {
     "iopub.execute_input": "2021-12-28T21:28:57.593568Z",
     "iopub.status.busy": "2021-12-28T21:28:57.592998Z",
     "iopub.status.idle": "2021-12-28T21:29:03.935642Z",
     "shell.execute_reply": "2021-12-28T21:29:03.934618Z"
    },
    "lines_to_next_cell": 2
   },
   "outputs": [
    {
     "name": "stdout",
     "output_type": "stream",
     "text": [
      "[\u001b[35mWARNING \u001b[0m]\u001b[35m The naima package is not available. Models that depend on it will not be available\u001b[0m\n"
     ]
    },
    {
     "name": "stdout",
     "output_type": "stream",
     "text": [
      "[\u001b[35mWARNING \u001b[0m]\u001b[35m The GSL library or the pygsl wrapper cannot be loaded. Models that depend on it will not be available.\u001b[0m\n"
     ]
    },
    {
     "name": "stdout",
     "output_type": "stream",
     "text": [
      "[\u001b[35mWARNING \u001b[0m]\u001b[35m The ebltable package is not available. Models that depend on it will not be available\u001b[0m\n"
     ]
    },
    {
     "name": "stdout",
     "output_type": "stream",
     "text": [
      "[\u001b[32mINFO    \u001b[0m]\u001b[32m Starting 3ML!\u001b[0m\n"
     ]
    },
    {
     "name": "stdout",
     "output_type": "stream",
     "text": [
      "[\u001b[35mWARNING \u001b[0m]\u001b[35m no display variable set. using backend for graphics without display (agg)\u001b[0m\n"
     ]
    },
    {
     "name": "stdout",
     "output_type": "stream",
     "text": [
      "[\u001b[35mWARNING \u001b[0m]\u001b[35m ROOT minimizer not available\u001b[0m\n"
     ]
    },
    {
     "name": "stdout",
     "output_type": "stream",
     "text": [
      "[\u001b[35mWARNING \u001b[0m]\u001b[35m Multinest minimizer not available\u001b[0m\n"
     ]
    },
    {
     "name": "stdout",
     "output_type": "stream",
     "text": [
      "[\u001b[35mWARNING \u001b[0m]\u001b[35m PyGMO is not available\u001b[0m\n"
     ]
    },
    {
     "name": "stdout",
     "output_type": "stream",
     "text": [
      "[\u001b[35mWARNING \u001b[0m]\u001b[35m The cthreeML package is not installed. You will not be able to use plugins which require the C/C++ interface (currently HAWC)\u001b[0m\n"
     ]
    },
    {
     "name": "stdout",
     "output_type": "stream",
     "text": [
      "[\u001b[35mWARNING \u001b[0m]\u001b[35m Could not import plugin FermiLATLike.py. Do you have the relative instrument software installed and configured?\u001b[0m\n"
     ]
    },
    {
     "name": "stdout",
     "output_type": "stream",
     "text": [
      "[\u001b[35mWARNING \u001b[0m]\u001b[35m Could not import plugin HAWCLike.py. Do you have the relative instrument software installed and configured?\u001b[0m\n"
     ]
    },
    {
     "name": "stdout",
     "output_type": "stream",
     "text": [
      "[\u001b[35mWARNING \u001b[0m]\u001b[35m No fermitools installed\u001b[0m\n"
     ]
    },
    {
     "name": "stdout",
     "output_type": "stream",
     "text": [
      "[\u001b[35mWARNING \u001b[0m]\u001b[35m Env. variable OMP_NUM_THREADS is not set. Please set it to 1 for optimal performances in 3ML\u001b[0m\n"
     ]
    },
    {
     "name": "stdout",
     "output_type": "stream",
     "text": [
      "[\u001b[35mWARNING \u001b[0m]\u001b[35m Env. variable MKL_NUM_THREADS is not set. Please set it to 1 for optimal performances in 3ML\u001b[0m\n"
     ]
    },
    {
     "name": "stdout",
     "output_type": "stream",
     "text": [
      "[\u001b[35mWARNING \u001b[0m]\u001b[35m Env. variable NUMEXPR_NUM_THREADS is not set. Please set it to 1 for optimal performances in 3ML\u001b[0m\n"
     ]
    }
   ],
   "source": [
    "%matplotlib inline\n",
    "from jupyterthemes import jtplot\n",
    "\n",
    "jtplot.style(context=\"talk\", fscale=1, ticks=True, grid=False)\n",
    "\n",
    "from whimstan import Database"
   ]
  },
  {
   "cell_type": "code",
   "execution_count": 2,
   "id": "04d8633e",
   "metadata": {
    "execution": {
     "iopub.execute_input": "2021-12-28T21:29:03.947934Z",
     "iopub.status.busy": "2021-12-28T21:29:03.941965Z",
     "iopub.status.idle": "2021-12-28T21:29:08.449762Z",
     "shell.execute_reply": "2021-12-28T21:29:08.449213Z"
    }
   },
   "outputs": [],
   "source": [
    "db = Database.read(\"data.h5\")"
   ]
  },
  {
   "cell_type": "markdown",
   "id": "528ff786",
   "metadata": {},
   "source": [
    "## The catalog object\n",
    "\n",
    "The database contains a catalog object that holds info about the observations. If the database is made from simulations, the catalog object will also know about the simulated info for each GRB.\n",
    "\n",
    "\n",
    "We can access the catalog dictionary with the names of the GRBs."
   ]
  },
  {
   "cell_type": "code",
   "execution_count": 3,
   "id": "f868377c",
   "metadata": {
    "execution": {
     "iopub.execute_input": "2021-12-28T21:29:08.457129Z",
     "iopub.status.busy": "2021-12-28T21:29:08.456229Z",
     "iopub.status.idle": "2021-12-28T21:29:08.460169Z",
     "shell.execute_reply": "2021-12-28T21:29:08.459750Z"
    }
   },
   "outputs": [
    {
     "data": {
      "text/plain": [
       "XRTCatalogEntry(name='000', ra=184.47390121057714, dec=-44.22857752842248, z=2.7259260528264164, nH_mw=0.08451678936809567, nH_host_sim=0.3646515935079867, index_sim=-1.2207854347857583, flux_sim=9.088906250518805e-11, n0_sim=1e-07, temp_sim=1000000.0)"
      ]
     },
     "execution_count": 3,
     "metadata": {},
     "output_type": "execute_result"
    }
   ],
   "source": [
    "db.catalog.catalog[\"000\"]"
   ]
  },
  {
   "cell_type": "code",
   "execution_count": 4,
   "id": "2c62aa39",
   "metadata": {
    "execution": {
     "iopub.execute_input": "2021-12-28T21:29:08.464830Z",
     "iopub.status.busy": "2021-12-28T21:29:08.464351Z",
     "iopub.status.idle": "2021-12-28T21:29:08.466750Z",
     "shell.execute_reply": "2021-12-28T21:29:08.467121Z"
    }
   },
   "outputs": [
    {
     "data": {
      "text/plain": [
       "XRTCatalogEntry(name='001', ra=265.76466450230396, dec=31.33611683539673, z=1.8428708381381365, nH_mw=0.04382423090031981, nH_host_sim=13.127907056078715, index_sim=-1.7597473454049504, flux_sim=8.215393160610223e-11, n0_sim=1e-07, temp_sim=1000000.0)"
      ]
     },
     "execution_count": 4,
     "metadata": {},
     "output_type": "execute_result"
    }
   ],
   "source": [
    "db.catalog.catalog[\"001\"]"
   ]
  },
  {
   "cell_type": "markdown",
   "id": "3c5a0fd2",
   "metadata": {},
   "source": [
    "## Getting 3ML plugins from the database\n",
    "\n",
    "\n",
    "We can create plugins from the data stored in the database for e.g. fitting the data in 3ML:"
   ]
  },
  {
   "cell_type": "code",
   "execution_count": 5,
   "id": "8216ca48",
   "metadata": {
    "execution": {
     "iopub.execute_input": "2021-12-28T21:29:08.471100Z",
     "iopub.status.busy": "2021-12-28T21:29:08.470100Z",
     "iopub.status.idle": "2021-12-28T21:29:08.471629Z",
     "shell.execute_reply": "2021-12-28T21:29:08.471997Z"
    }
   },
   "outputs": [],
   "source": [
    "p = db.plugins[\"000\"]"
   ]
  },
  {
   "cell_type": "code",
   "execution_count": 6,
   "id": "2b19429c",
   "metadata": {
    "execution": {
     "iopub.execute_input": "2021-12-28T21:29:08.481254Z",
     "iopub.status.busy": "2021-12-28T21:29:08.480742Z",
     "iopub.status.idle": "2021-12-28T21:29:10.419086Z",
     "shell.execute_reply": "2021-12-28T21:29:10.418567Z"
    }
   },
   "outputs": [
    {
     "name": "stderr",
     "output_type": "stream",
     "text": [
      "\n",
      "WARNING UserWarning: Attempted to set non-positive left xlim on a log-scaled axis.\n",
      "Invalid limit will be ignored.\n",
      "\n"
     ]
    },
    {
     "data": {
      "image/png": "[encoded data removed]",
      "text/plain": [
       "<Figure size 748.8x655.2 with 1 Axes>"
      ]
     },
     "execution_count": 6,
     "metadata": {},
     "output_type": "execute_result"
    }
   ],
   "source": [
    "p.view_count_spectrum()"
   ]
  },
  {
   "cell_type": "code",
   "execution_count": 7,
   "id": "6acbf592",
   "metadata": {
    "execution": {
     "iopub.execute_input": "2021-12-28T21:29:10.439032Z",
     "iopub.status.busy": "2021-12-28T21:29:10.424705Z",
     "iopub.status.idle": "2021-12-28T21:29:12.019088Z",
     "shell.execute_reply": "2021-12-28T21:29:12.018634Z"
    }
   },
   "outputs": [
    {
     "name": "stderr",
     "output_type": "stream",
     "text": [
      "\n",
      "WARNING UserWarning: Attempted to set non-positive left xlim on a log-scaled axis.\n",
      "Invalid limit will be ignored.\n",
      "\n"
     ]
    },
    {
     "data": {
      "image/png": "[encoded data removed]",
      "text/plain": [
       "<Figure size 748.8x655.2 with 1 Axes>"
      ]
     },
     "execution_count": 7,
     "metadata": {},
     "output_type": "execute_result"
    }
   ],
   "source": [
    "p = db.plugins[\"001\"]\n",
    "p.view_count_spectrum()"
   ]
  },
  {
   "cell_type": "markdown",
   "id": "651a7f09",
   "metadata": {},
   "source": [
    "## Getting an 3ML analysis from the database\n",
    "\n",
    "\n",
    "Additionally, we can build an analysis from the database."
   ]
  },
  {
   "cell_type": "code",
   "execution_count": 8,
   "id": "dbf7bfb4",
   "metadata": {
    "execution": {
     "iopub.execute_input": "2021-12-28T21:29:12.032590Z",
     "iopub.status.busy": "2021-12-28T21:29:12.026667Z",
     "iopub.status.idle": "2021-12-28T21:29:12.087952Z",
     "shell.execute_reply": "2021-12-28T21:29:12.087469Z"
    }
   },
   "outputs": [],
   "source": [
    "ba = db.build_3ml_analysis(id=0)"
   ]
  },
  {
   "cell_type": "markdown",
   "id": "2f2126e2",
   "metadata": {},
   "source": [
    "Now we can fit in 3ML!\n"
   ]
  }
 ],
 "metadata": {
  "jupytext": {
   "formats": "ipynb,md"
  },
  "kernelspec": {
   "display_name": "Python 3",
   "language": "python",
   "name": "python3"
  },
  "language_info": {
   "codemirror_mode": {
    "name": "ipython",
    "version": 3
   },
   "file_extension": ".py",
   "mimetype": "text/x-python",
   "name": "python",
   "nbconvert_exporter": "python",
   "pygments_lexer": "ipython3",
   "version": "3.9.9"
  },
  "widgets": {
   "application/vnd.jupyter.widget-state+json": {
    "state": {
     "0d92e9cf1c8c45bdb5e9277e1c3970b9": {
      "model_module": "jupyter-vue",
      "model_module_version": "^1.7.0",
      "model_name": "ForceLoadModel",
      "state": {
       "_dom_classes": [],
       "_model_module": "jupyter-vue",
       "_model_module_version": "^1.7.0",
       "_model_name": "ForceLoadModel",
       "_view_count": null,
       "_view_module": null,
       "_view_module_version": "",
       "_view_name": null,
       "layout": "IPY_MODEL_60b4879abf814938ae1343ed57c80ec1"
      }
     },
     "33279f65f4a74d72ad796e8cc9ceafa6": {
      "model_module": "jupyter-vuetify",
      "model_module_version": "^1.8.1",
      "model_name": "ThemeModel",
      "state": {
       "_model_module": "jupyter-vuetify",
       "_model_module_version": "^1.8.1",
       "_model_name": "ThemeModel",
       "_view_count": null,
       "_view_module": null,
       "_view_module_version": "^1.8.1",
       "_view_name": null,
       "dark": null
      }
     },
     "60b4879abf814938ae1343ed57c80ec1": {
      "model_module": "@jupyter-widgets/base",
      "model_module_version": "1.2.0",
      "model_name": "LayoutModel",
      "state": {
       "_model_module": "@jupyter-widgets/base",
       "_model_module_version": "1.2.0",
       "_model_name": "LayoutModel",
       "_view_count": null,
       "_view_module": "@jupyter-widgets/base",
       "_view_module_version": "1.2.0",
       "_view_name": "LayoutView",
       "align_content": null,
       "align_items": null,
       "align_self": null,
       "border": null,
       "bottom": null,
       "display": null,
       "flex": null,
       "flex_flow": null,
       "grid_area": null,
       "grid_auto_columns": null,
       "grid_auto_flow": null,
       "grid_auto_rows": null,
       "grid_column": null,
       "grid_gap": null,
       "grid_row": null,
       "grid_template_areas": null,
       "grid_template_columns": null,
       "grid_template_rows": null,
       "height": null,
       "justify_content": null,
       "justify_items": null,
       "left": null,
       "margin": null,
       "max_height": null,
       "max_width": null,
       "min_height": null,
       "min_width": null,
       "object_fit": null,
       "object_position": null,
       "order": null,
       "overflow": null,
       "overflow_x": null,
       "overflow_y": null,
       "padding": null,
       "right": null,
       "top": null,
       "visibility": null,
       "width": null
      }
     },
     "626cfd78e4114f3782bf9befa9df01c8": {
      "model_module": "jupyter-vuetify",
      "model_module_version": "^1.8.1",
      "model_name": "ThemeColorsModel",
      "state": {
       "_model_module": "jupyter-vuetify",
       "_model_module_version": "^1.8.1",
       "_model_name": "ThemeColorsModel",
       "_theme_name": "light",
       "_view_count": null,
       "_view_module": null,
       "_view_module_version": "^1.8.1",
       "_view_name": null,
       "accent": "#82B1FF",
       "anchor": null,
       "error": "#FF5252",
       "info": "#2196F3",
       "primary": "#1976D2",
       "secondary": "#424242",
       "success": "#4CAF50",
       "warning": "#FB8C00"
      }
     },
     "cf75c60e7864410e88afc1c3a3d70a0b": {
      "model_module": "jupyter-vuetify",
      "model_module_version": "^1.8.1",
      "model_name": "ThemeColorsModel",
      "state": {
       "_model_module": "jupyter-vuetify",
       "_model_module_version": "^1.8.1",
       "_model_name": "ThemeColorsModel",
       "_theme_name": "dark",
       "_view_count": null,
       "_view_module": null,
       "_view_module_version": "^1.8.1",
       "_view_name": null,
       "accent": "#FF4081",
       "anchor": null,
       "error": "#FF5252",
       "info": "#2196F3",
       "primary": "#2196F3",
       "secondary": "#424242",
       "success": "#4CAF50",
       "warning": "#FB8C00"
      }
     }
    },
    "version_major": 2,
    "version_minor": 0
   }
  }
 },
 "nbformat": 4,
 "nbformat_minor": 5
}
