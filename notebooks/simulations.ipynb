{
 "cells": [
  {
   "cell_type": "markdown",
   "id": "5a0ee9c5",
   "metadata": {},
   "source": [
    "# Simulations\n",
    "\n",
    "While `whimstan` is a primarily an interface to various Bayesian hierarchical models for fitting the afterglow spectra of GRBs, it also provides some capabilities to simulate individual XRT spectra from population distributions. We leverage the capabilities of [popsynth](https://popsynth.readthedocs.io/en/latest/) to generate the population parameters and then use [3ml](https://threeml.readthedocs.io/en/stable/) to fold synthesized spectra through the response of XRT.\n",
    "\n",
    "All of this complexity is handled with a few simple routines.\n"
   ]
  },
  {
   "cell_type": "markdown",
   "id": "62ff0241",
   "metadata": {
    "tags": []
   },
   "source": [
    "## Components"
   ]
  },
  {
   "cell_type": "markdown",
   "id": "7544b5f0",
   "metadata": {},
   "source": [
    "### GRB Spectrum\n",
    "\n",
    "\n",
    "The GRB intrinsic spectra are power laws (assumed to be synchrotron emission). The luminosity is drawn from a Schecter function and the redshift from a distribution [Cole]()-like shape. The photon index is sampled from a Gaussian. All of these parameters a configurable."
   ]
  },
  {
   "cell_type": "markdown",
   "id": "585adf73",
   "metadata": {},
   "source": [
    "### Host galaxy absorbing column\n",
    "\n",
    "The photons from the GRB first must pass through the local gas in its their host galaxy. The column density can either be simulated as a log-normal or by assuming that GRBs occur in clouds of various ellipsoidal shapes with a distribution of densities. To use the clouds in the simulation, the user specifies the mean and standard deviation of the cloud gas density [cm-3] and the minimum ratio of cloud height to radius ellipsoidal shape (z/R =1 implies a spherical cloud). These shapes are then sampled such that the ratio of the cloud follows a log-uniform distribution from spherical to the minimum ellipsoidal ratio.\n"
   ]
  },
  {
   "cell_type": "code",
   "execution_count": 1,
   "id": "85e8815e",
   "metadata": {
    "execution": {
     "iopub.execute_input": "2021-12-28T21:26:10.525426Z",
     "iopub.status.busy": "2021-12-28T21:26:10.524824Z",
     "iopub.status.idle": "2021-12-28T21:26:19.781685Z",
     "shell.execute_reply": "2021-12-28T21:26:19.781087Z"
    }
   },
   "outputs": [
    {
     "name": "stdout",
     "output_type": "stream",
     "text": [
      "[\u001b[35mWARNING \u001b[0m]\u001b[35m The naima package is not available. Models that depend on it will not be available\u001b[0m\n"
     ]
    },
    {
     "name": "stdout",
     "output_type": "stream",
     "text": [
      "[\u001b[35mWARNING \u001b[0m]\u001b[35m The GSL library or the pygsl wrapper cannot be loaded. Models that depend on it will not be available.\u001b[0m\n"
     ]
    },
    {
     "name": "stdout",
     "output_type": "stream",
     "text": [
      "[\u001b[35mWARNING \u001b[0m]\u001b[35m The ebltable package is not available. Models that depend on it will not be available\u001b[0m\n"
     ]
    },
    {
     "name": "stdout",
     "output_type": "stream",
     "text": [
      "[\u001b[32mINFO    \u001b[0m]\u001b[32m Starting 3ML!\u001b[0m\n"
     ]
    },
    {
     "name": "stdout",
     "output_type": "stream",
     "text": [
      "[\u001b[35mWARNING \u001b[0m]\u001b[35m no display variable set. using backend for graphics without display (agg)\u001b[0m\n"
     ]
    },
    {
     "name": "stdout",
     "output_type": "stream",
     "text": [
      "[\u001b[35mWARNING \u001b[0m]\u001b[35m ROOT minimizer not available\u001b[0m\n"
     ]
    },
    {
     "name": "stdout",
     "output_type": "stream",
     "text": [
      "[\u001b[35mWARNING \u001b[0m]\u001b[35m Multinest minimizer not available\u001b[0m\n"
     ]
    },
    {
     "name": "stdout",
     "output_type": "stream",
     "text": [
      "[\u001b[35mWARNING \u001b[0m]\u001b[35m PyGMO is not available\u001b[0m\n"
     ]
    },
    {
     "name": "stdout",
     "output_type": "stream",
     "text": [
      "[\u001b[35mWARNING \u001b[0m]\u001b[35m The cthreeML package is not installed. You will not be able to use plugins which require the C/C++ interface (currently HAWC)\u001b[0m\n"
     ]
    },
    {
     "name": "stdout",
     "output_type": "stream",
     "text": [
      "[\u001b[35mWARNING \u001b[0m]\u001b[35m Could not import plugin FermiLATLike.py. Do you have the relative instrument software installed and configured?\u001b[0m\n"
     ]
    },
    {
     "name": "stdout",
     "output_type": "stream",
     "text": [
      "[\u001b[35mWARNING \u001b[0m]\u001b[35m Could not import plugin HAWCLike.py. Do you have the relative instrument software installed and configured?\u001b[0m\n"
     ]
    },
    {
     "name": "stdout",
     "output_type": "stream",
     "text": [
      "[\u001b[35mWARNING \u001b[0m]\u001b[35m No fermitools installed\u001b[0m\n"
     ]
    },
    {
     "name": "stdout",
     "output_type": "stream",
     "text": [
      "[\u001b[35mWARNING \u001b[0m]\u001b[35m Env. variable OMP_NUM_THREADS is not set. Please set it to 1 for optimal performances in 3ML\u001b[0m\n"
     ]
    },
    {
     "name": "stdout",
     "output_type": "stream",
     "text": [
      "[\u001b[35mWARNING \u001b[0m]\u001b[35m Env. variable MKL_NUM_THREADS is not set. Please set it to 1 for optimal performances in 3ML\u001b[0m\n"
     ]
    },
    {
     "name": "stdout",
     "output_type": "stream",
     "text": [
      "[\u001b[35mWARNING \u001b[0m]\u001b[35m Env. variable NUMEXPR_NUM_THREADS is not set. Please set it to 1 for optimal performances in 3ML\u001b[0m\n"
     ]
    }
   ],
   "source": [
    "\n",
    "import matplotlib.pyplot as plt\n",
    "from jupyterthemes import jtplot\n",
    "\n",
    "jtplot.style(context=\"talk\", fscale=1, ticks=True, grid=False)\n",
    "\n",
    "from whimstan.simulations.cloud import Cloud\n",
    "import numpy as np\n",
    "\n",
    "%matplotlib inline"
   ]
  },
  {
   "cell_type": "code",
   "execution_count": 2,
   "id": "b6341cc7",
   "metadata": {
    "execution": {
     "iopub.execute_input": "2021-12-28T21:26:19.793275Z",
     "iopub.status.busy": "2021-12-28T21:26:19.792770Z",
     "iopub.status.idle": "2021-12-28T21:26:21.943685Z",
     "shell.execute_reply": "2021-12-28T21:26:21.943257Z"
    }
   },
   "outputs": [
    {
     "data": {
      "text/plain": [
       "Text(0.5, 0, 'nH [cm2]')"
      ]
     },
     "execution_count": 2,
     "metadata": {},
     "output_type": "execute_result"
    },
    {
     "data": {
      "image/png": "[encoded data removed]",
      "text/plain": [
       "<Figure size 432x288 with 1 Axes>"
      ]
     },
     "metadata": {
      "needs_background": "light"
     },
     "output_type": "display_data"
    }
   ],
   "source": [
    "fig, ax = plt.subplots()\n",
    "\n",
    "n = 10000\n",
    "\n",
    "for min_zr in [0.01, 0.1, 0.9]:\n",
    "\n",
    "    zr_ratio = np.power(10, np.random.uniform(np.log10(min_zr), 0, size=n))\n",
    "\n",
    "    nh_density = np.random.normal(loc=22.5, scale=0.5, size=n)\n",
    "\n",
    "    # create a cloud with this simulation\n",
    "    clouds = [Cloud(zr_ratio=zr) for zr in zr_ratio]\n",
    "\n",
    "    # sample the latent values for this property\n",
    "\n",
    "    path_length = np.array([cloud.sample() for cloud in clouds])\n",
    "\n",
    "    column_density = np.power(10.0, nh_density) * path_length\n",
    "\n",
    "    bins = np.geomspace(1e19, 1e25, 50)\n",
    "\n",
    "    ax.hist(column_density, bins=bins, histtype=\"step\", lw=1.5, label=f\"z/R={min_zr}\")\n",
    "\n",
    "\n",
    "ax.set_xscale(\"log\")\n",
    "ax.set_yticks([])\n",
    "ax.spines[\"left\"].set_visible(False)\n",
    "ax.legend()\n",
    "ax.set_xlabel(\"nH [cm2]\")"
   ]
  },
  {
   "cell_type": "markdown",
   "id": "7b55bc9f",
   "metadata": {},
   "source": [
    "### Milky way absorption\n",
    "\n",
    "The absorption by the local Milky Way gas is computed by looking of the value in the [gdpyc](https://gdpyc.readthedocs.io/en/latest/) map for each GRB's Ra and Dec.\n",
    "\n",
    "\n"
   ]
  },
  {
   "cell_type": "markdown",
   "id": "c44ec75d",
   "metadata": {},
   "source": [
    "### WHIM component\n",
    "Finally, if a WHIM component is included, then the temperature and density of the WHIM are set and each GRB compute the absorbing column along the line of sight for its given redshift.\n"
   ]
  },
  {
   "cell_type": "markdown",
   "id": "3575c9c2",
   "metadata": {},
   "source": [
    "## Running the simulation\n",
    "\n",
    "Now that we understand the components that go into the simulation. Let's use popsynth and whimstan to create some data.\n"
   ]
  },
  {
   "cell_type": "markdown",
   "id": "42c60027",
   "metadata": {},
   "source": [
    "### Creating the population\n",
    "\n",
    "First we create the population where we can pass our desired population parameters and place cuts on the GRBs we want to actually simulate."
   ]
  },
  {
   "cell_type": "code",
   "execution_count": 3,
   "id": "ccdfc3d8",
   "metadata": {
    "execution": {
     "iopub.execute_input": "2021-12-28T21:26:21.950339Z",
     "iopub.status.busy": "2021-12-28T21:26:21.949863Z",
     "iopub.status.idle": "2021-12-28T21:26:21.953026Z",
     "shell.execute_reply": "2021-12-28T21:26:21.952396Z"
    }
   },
   "outputs": [],
   "source": [
    "\n",
    "from whimstan import create_population\n",
    "import popsynth\n",
    "\n",
    "import warnings\n",
    "\n",
    "warnings.simplefilter(\"ignore\")\n",
    "warnings.filterwarnings(\"ignore\")\n",
    "\n",
    "\n",
    "pop_gen = create_population(\n",
    "    r0=10,\n",
    "    z_max=10,\n",
    "    Lmin=1e48,\n",
    "    alpha=1.5,\n",
    "    host_gas_mean=22,\n",
    "    host_gas_sigma=0.5,\n",
    "    host_gas_cloud_ratio=0.1,\n",
    "    use_clouds=True,\n",
    "    vari_clouds=True,\n",
    "    whim_n0=1e-7,\n",
    "    whim_T=1e6,\n",
    "    b_limit=10.0,  # minumum degrees away from galactic center to allow\n",
    "    mw_nh_limit=21.0,  # maximum MW column density allowed\n",
    ")\n",
    "\n",
    "# lets cut with with a flux limit\n",
    "\n",
    "flux_selector = popsynth.HardFluxSelection()\n",
    "\n",
    "flux_selector.boundary = 1e-11\n",
    "\n",
    "\n",
    "pop_gen.set_flux_selection(flux_selector)"
   ]
  },
  {
   "cell_type": "code",
   "execution_count": 4,
   "id": "2f7c81c2",
   "metadata": {
    "execution": {
     "iopub.execute_input": "2021-12-28T21:26:21.972033Z",
     "iopub.status.busy": "2021-12-28T21:26:21.960527Z",
     "iopub.status.idle": "2021-12-28T21:26:52.400287Z",
     "shell.execute_reply": "2021-12-28T21:26:52.399866Z"
    },
    "lines_to_next_cell": 2
   },
   "outputs": [
    {
     "data": {
      "application/vnd.jupyter.widget-view+json": {
       "model_id": "a036be907f6549c894efc7abc12ab63b",
       "version_major": 2,
       "version_minor": 0
      },
      "text/plain": [
       "Drawing distances:   0%|          | 0/88 [00:00<?, ?it/s]"
      ]
     },
     "metadata": {},
     "output_type": "display_data"
    },
    {
     "data": {
      "application/vnd.jupyter.widget-view+json": {
       "model_id": "069ab939ffe843f49b7c3dee7a73bcd1",
       "version_major": 2,
       "version_minor": 0
      },
      "text/plain": [
       "computing obscured fluxes:   0%|          | 0/88 [00:00<?, ?it/s]"
      ]
     },
     "metadata": {},
     "output_type": "display_data"
    }
   ],
   "source": [
    "pop_full = pop_gen.draw_survey()\n",
    "pop = pop_full.to_sub_population()"
   ]
  },
  {
   "cell_type": "markdown",
   "id": "8177b067",
   "metadata": {},
   "source": [
    "Now we have sampled all the parameters that we need for the population. We can have a look at the implications."
   ]
  },
  {
   "cell_type": "code",
   "execution_count": 5,
   "id": "c61747f9",
   "metadata": {
    "execution": {
     "iopub.execute_input": "2021-12-28T21:26:52.432784Z",
     "iopub.status.busy": "2021-12-28T21:26:52.432248Z",
     "iopub.status.idle": "2021-12-28T21:26:52.919882Z",
     "shell.execute_reply": "2021-12-28T21:26:52.919453Z"
    }
   },
   "outputs": [
    {
     "data": {
      "image/png": "[encoded data removed]",
      "text/plain": [
       "<Figure size 432x288 with 1 Axes>"
      ]
     },
     "execution_count": 5,
     "metadata": {},
     "output_type": "execute_result"
    },
    {
     "data": {
      "image/png": "[encoded data removed]",
      "text/plain": [
       "<Figure size 432x288 with 1 Axes>"
      ]
     },
     "metadata": {
      "needs_background": "light"
     },
     "output_type": "display_data"
    }
   ],
   "source": [
    "pop_full.display_fluxes()"
   ]
  },
  {
   "cell_type": "code",
   "execution_count": 6,
   "id": "f8f7c330",
   "metadata": {
    "execution": {
     "iopub.execute_input": "2021-12-28T21:26:52.943638Z",
     "iopub.status.busy": "2021-12-28T21:26:52.922001Z",
     "iopub.status.idle": "2021-12-28T21:26:53.162284Z",
     "shell.execute_reply": "2021-12-28T21:26:53.161839Z"
    }
   },
   "outputs": [
    {
     "data": {
      "image/png": "[encoded data removed]",
      "text/plain": [
       "<Figure size 432x288 with 1 Axes>"
      ]
     },
     "metadata": {
      "needs_background": "light"
     },
     "output_type": "display_data"
    }
   ],
   "source": [
    "pop_full.display_distances()"
   ]
  },
  {
   "cell_type": "markdown",
   "id": "825fdf83",
   "metadata": {},
   "source": [
    "### Creating the spectra and its database\n",
    "\n",
    "We now want to generate observations from Swift-XRT. While we can generate FITS files for each observation. This is a rather bloated file format, so we can store all the data directly to an HDF5 file which can easily translate this data into 3ML plugins as needed. First we load up the spectrum factory."
   ]
  },
  {
   "cell_type": "code",
   "execution_count": 7,
   "id": "70e174b8",
   "metadata": {
    "execution": {
     "iopub.execute_input": "2021-12-28T21:26:53.166323Z",
     "iopub.status.busy": "2021-12-28T21:26:53.165844Z",
     "iopub.status.idle": "2021-12-28T21:26:53.168020Z",
     "shell.execute_reply": "2021-12-28T21:26:53.167602Z"
    }
   },
   "outputs": [],
   "source": [
    "from whimstan import SpectrumFactory"
   ]
  },
  {
   "cell_type": "code",
   "execution_count": 8,
   "id": "a35a19fb",
   "metadata": {
    "execution": {
     "iopub.execute_input": "2021-12-28T21:26:53.187774Z",
     "iopub.status.busy": "2021-12-28T21:26:53.169848Z",
     "iopub.status.idle": "2021-12-28T21:28:24.347726Z",
     "shell.execute_reply": "2021-12-28T21:28:24.348157Z"
    },
    "lines_to_next_cell": 2
   },
   "outputs": [
    {
     "data": {
      "application/vnd.jupyter.widget-view+json": {
       "model_id": "9a85d27f1e854933a28c5962c78241a5",
       "version_major": 2,
       "version_minor": 0
      },
      "text/plain": [
       "Calculating the simulated datasets:   0%|          | 0/44 [00:00<?, ?it/s]"
      ]
     },
     "metadata": {},
     "output_type": "display_data"
    },
    {
     "name": "stdout",
     "output_type": "stream",
     "text": [
      "[\u001b[35mWARNING \u001b[0m]\u001b[35m The naima package is not available. Models that depend on it will not be available\u001b[0m\n",
      "[\u001b[35mWARNING \u001b[0m]\u001b[35m The naima package is not available. Models that depend on it will not be available\u001b[0m\n",
      "[\u001b[35mWARNING \u001b[0m]\u001b[35m The GSL library or the pygsl wrapper cannot be loaded. Models that depend on it will not be available.\u001b[0m\n",
      "[\u001b[35mWARNING \u001b[0m]\u001b[35m The GSL library or the pygsl wrapper cannot be loaded. Models that depend on it will not be available.\u001b[0m\n",
      "[\u001b[35mWARNING \u001b[0m]\u001b[35m The ebltable package is not available. Models that depend on it will not be available\u001b[0m\n",
      "[\u001b[35mWARNING \u001b[0m]\u001b[35m The ebltable package is not available. Models that depend on it will not be available\u001b[0m\n"
     ]
    },
    {
     "name": "stdout",
     "output_type": "stream",
     "text": [
      "[\u001b[32mINFO    \u001b[0m]\u001b[32m Starting 3ML!\u001b[0m\n",
      "[\u001b[35mWARNING \u001b[0m]\u001b[35m no display variable set. using backend for graphics without display (agg)\u001b[0m\n",
      "[\u001b[32mINFO    \u001b[0m]\u001b[32m Starting 3ML!\u001b[0m\n",
      "[\u001b[35mWARNING \u001b[0m]\u001b[35m no display variable set. using backend for graphics without display (agg)\u001b[0m\n",
      "[\u001b[35mWARNING \u001b[0m]\u001b[35m ROOT minimizer not available\u001b[0m\n",
      "[\u001b[35mWARNING \u001b[0m]\u001b[35m ROOT minimizer not available\u001b[0m\n",
      "[\u001b[35mWARNING \u001b[0m]\u001b[35m Multinest minimizer not available\u001b[0m\n",
      "[\u001b[35mWARNING \u001b[0m]\u001b[35m Multinest minimizer not available\u001b[0m\n"
     ]
    },
    {
     "name": "stdout",
     "output_type": "stream",
     "text": [
      "[\u001b[35mWARNING \u001b[0m]\u001b[35m PyGMO is not available\u001b[0m\n",
      "[\u001b[35mWARNING \u001b[0m]\u001b[35m PyGMO is not available\u001b[0m\n",
      "[\u001b[35mWARNING \u001b[0m]\u001b[35m The cthreeML package is not installed. You will not be able to use plugins which require the C/C++ interface (currently HAWC)\u001b[0m\n",
      "[\u001b[35mWARNING \u001b[0m]\u001b[35m The cthreeML package is not installed. You will not be able to use plugins which require the C/C++ interface (currently HAWC)\u001b[0m\n",
      "[\u001b[35mWARNING \u001b[0m]\u001b[35m Could not import plugin FermiLATLike.py. Do you have the relative instrument software installed and configured?\u001b[0m\n",
      "[\u001b[35mWARNING \u001b[0m]\u001b[35m Could not import plugin FermiLATLike.py. Do you have the relative instrument software installed and configured?\u001b[0m\n",
      "[\u001b[35mWARNING \u001b[0m]\u001b[35m Could not import plugin HAWCLike.py. Do you have the relative instrument software installed and configured?\u001b[0m\n",
      "[\u001b[35mWARNING \u001b[0m]\u001b[35m Could not import plugin HAWCLike.py. Do you have the relative instrument software installed and configured?\u001b[0m\n"
     ]
    },
    {
     "name": "stdout",
     "output_type": "stream",
     "text": [
      "[\u001b[35mWARNING \u001b[0m]\u001b[35m No fermitools installed\u001b[0m\n",
      "[\u001b[35mWARNING \u001b[0m]\u001b[35m No fermitools installed\u001b[0m\n"
     ]
    }
   ],
   "source": [
    "spec_fac = SpectrumFactory(pop, whim_n0=1e-7, whim_T=1e6, n_jobs=2)"
   ]
  },
  {
   "cell_type": "markdown",
   "id": "d6de8d02",
   "metadata": {},
   "source": [
    "Now we can write this to a file."
   ]
  },
  {
   "cell_type": "code",
   "execution_count": 9,
   "id": "da04ab12",
   "metadata": {
    "execution": {
     "iopub.execute_input": "2021-12-28T21:28:24.352577Z",
     "iopub.status.busy": "2021-12-28T21:28:24.352109Z",
     "iopub.status.idle": "2021-12-28T21:28:52.702506Z",
     "shell.execute_reply": "2021-12-28T21:28:52.702897Z"
    }
   },
   "outputs": [
    {
     "data": {
      "application/vnd.jupyter.widget-view+json": {
       "model_id": "d31ceb3f8d914f07b20f2542e84bdc2c",
       "version_major": 2,
       "version_minor": 0
      },
      "text/plain": [
       "Reading GRBs:   0%|          | 0/44 [00:00<?, ?it/s]"
      ]
     },
     "metadata": {},
     "output_type": "display_data"
    }
   ],
   "source": [
    "spec_fac.create_database(\"data.h5\")"
   ]
  },
  {
   "cell_type": "markdown",
   "id": "c389fc85",
   "metadata": {},
   "source": [
    "To see how we can work with a database, have a look at the [Working with data]() section.\n"
   ]
  }
 ],
 "metadata": {
  "jupytext": {
   "formats": "ipynb,md"
  },
  "kernelspec": {
   "display_name": "Python 3",
   "language": "python",
   "name": "python3"
  },
  "language_info": {
   "codemirror_mode": {
    "name": "ipython",
    "version": 3
   },
   "file_extension": ".py",
   "mimetype": "text/x-python",
   "name": "python",
   "nbconvert_exporter": "python",
   "pygments_lexer": "ipython3",
   "version": "3.9.9"
  },
  "widgets": {
   "application/vnd.jupyter.widget-state+json": {
    "state": {
     "04fe6138b78645508bcef7b1174c51b4": {
      "model_module": "@jupyter-widgets/controls",
      "model_module_version": "1.5.0",
      "model_name": "DescriptionStyleModel",
      "state": {
       "_model_module": "@jupyter-widgets/controls",
       "_model_module_version": "1.5.0",
       "_model_name": "DescriptionStyleModel",
       "_view_count": null,
       "_view_module": "@jupyter-widgets/base",
       "_view_module_version": "1.2.0",
       "_view_name": "StyleView",
       "description_width": ""
      }
     },
     "069ab939ffe843f49b7c3dee7a73bcd1": {
      "model_module": "@jupyter-widgets/controls",
      "model_module_version": "1.5.0",
      "model_name": "HBoxModel",
      "state": {
       "_dom_classes": [],
       "_model_module": "@jupyter-widgets/controls",
       "_model_module_version": "1.5.0",
       "_model_name": "HBoxModel",
       "_view_count": null,
       "_view_module": "@jupyter-widgets/controls",
       "_view_module_version": "1.5.0",
       "_view_name": "HBoxView",
       "box_style": "",
       "children": [
        "IPY_MODEL_2fbb029c65c94f138bf9980d66f18ea9",
        "IPY_MODEL_34547be4e3b34843bb82239b7de941aa",
        "IPY_MODEL_1b88471df53b4688af3bfc8a2ea5b3fc"
       ],
       "layout": "IPY_MODEL_6430bc5ace5d4069a143e4360edfced6"
      }
     },
     "09b8023770874bfdbc212f7f95654515": {
      "model_module": "@jupyter-widgets/controls",
      "model_module_version": "1.5.0",
      "model_name": "ProgressStyleModel",
      "state": {
       "_model_module": "@jupyter-widgets/controls",
       "_model_module_version": "1.5.0",
       "_model_name": "ProgressStyleModel",
       "_view_count": null,
       "_view_module": "@jupyter-widgets/base",
       "_view_module_version": "1.2.0",
       "_view_name": "StyleView",
       "bar_color": "#B833FF",
       "description_width": ""
      }
     },
     "1b88471df53b4688af3bfc8a2ea5b3fc": {
      "model_module": "@jupyter-widgets/controls",
      "model_module_version": "1.5.0",
      "model_name": "HTMLModel",
      "state": {
       "_dom_classes": [],
       "_model_module": "@jupyter-widgets/controls",
       "_model_module_version": "1.5.0",
       "_model_name": "HTMLModel",
       "_view_count": null,
       "_view_module": "@jupyter-widgets/controls",
       "_view_module_version": "1.5.0",
       "_view_name": "HTMLView",
       "description": "",
       "description_tooltip": null,
       "layout": "IPY_MODEL_228500f0c227465b83b0a3e91ff653f8",
       "placeholder": "​",
       "style": "IPY_MODEL_96a103aa445545cea99e4db93538c9c0",
       "value": " 88/88 [00:25&lt;00:00,  3.78it/s]"
      }
     },
     "228500f0c227465b83b0a3e91ff653f8": {
      "model_module": "@jupyter-widgets/base",
      "model_module_version": "1.2.0",
      "model_name": "LayoutModel",
      "state": {
       "_model_module": "@jupyter-widgets/base",
       "_model_module_version": "1.2.0",
       "_model_name": "LayoutModel",
       "_view_count": null,
       "_view_module": "@jupyter-widgets/base",
       "_view_module_version": "1.2.0",
       "_view_name": "LayoutView",
       "align_content": null,
       "align_items": null,
       "align_self": null,
       "border": null,
       "bottom": null,
       "display": null,
       "flex": null,
       "flex_flow": null,
       "grid_area": null,
       "grid_auto_columns": null,
       "grid_auto_flow": null,
       "grid_auto_rows": null,
       "grid_column": null,
       "grid_gap": null,
       "grid_row": null,
       "grid_template_areas": null,
       "grid_template_columns": null,
       "grid_template_rows": null,
       "height": null,
       "justify_content": null,
       "justify_items": null,
       "left": null,
       "margin": null,
       "max_height": null,
       "max_width": null,
       "min_height": null,
       "min_width": null,
       "object_fit": null,
       "object_position": null,
       "order": null,
       "overflow": null,
       "overflow_x": null,
       "overflow_y": null,
       "padding": null,
       "right": null,
       "top": null,
       "visibility": null,
       "width": null
      }
     },
     "2405e7bf21b14425952da0de47a7622d": {
      "model_module": "@jupyter-widgets/base",
      "model_module_version": "1.2.0",
      "model_name": "LayoutModel",
      "state": {
       "_model_module": "@jupyter-widgets/base",
       "_model_module_version": "1.2.0",
       "_model_name": "LayoutModel",
       "_view_count": null,
       "_view_module": "@jupyter-widgets/base",
       "_view_module_version": "1.2.0",
       "_view_name": "LayoutView",
       "align_content": null,
       "align_items": null,
       "align_self": null,
       "border": null,
       "bottom": null,
       "display": null,
       "flex": null,
       "flex_flow": null,
       "grid_area": null,
       "grid_auto_columns": null,
       "grid_auto_flow": null,
       "grid_auto_rows": null,
       "grid_column": null,
       "grid_gap": null,
       "grid_row": null,
       "grid_template_areas": null,
       "grid_template_columns": null,
       "grid_template_rows": null,
       "height": null,
       "justify_content": null,
       "justify_items": null,
       "left": null,
       "margin": null,
       "max_height": null,
       "max_width": null,
       "min_height": null,
       "min_width": null,
       "object_fit": null,
       "object_position": null,
       "order": null,
       "overflow": null,
       "overflow_x": null,
       "overflow_y": null,
       "padding": null,
       "right": null,
       "top": null,
       "visibility": null,
       "width": null
      }
     },
     "2979cc68316a47f6946a0f2e2d10594b": {
      "model_module": "@jupyter-widgets/base",
      "model_module_version": "1.2.0",
      "model_name": "LayoutModel",
      "state": {
       "_model_module": "@jupyter-widgets/base",
       "_model_module_version": "1.2.0",
       "_model_name": "LayoutModel",
       "_view_count": null,
       "_view_module": "@jupyter-widgets/base",
       "_view_module_version": "1.2.0",
       "_view_name": "LayoutView",
       "align_content": null,
       "align_items": null,
       "align_self": null,
       "border": null,
       "bottom": null,
       "display": null,
       "flex": null,
       "flex_flow": null,
       "grid_area": null,
       "grid_auto_columns": null,
       "grid_auto_flow": null,
       "grid_auto_rows": null,
       "grid_column": null,
       "grid_gap": null,
       "grid_row": null,
       "grid_template_areas": null,
       "grid_template_columns": null,
       "grid_template_rows": null,
       "height": null,
       "justify_content": null,
       "justify_items": null,
       "left": null,
       "margin": null,
       "max_height": null,
       "max_width": null,
       "min_height": null,
       "min_width": null,
       "object_fit": null,
       "object_position": null,
       "order": null,
       "overflow": null,
       "overflow_x": null,
       "overflow_y": null,
       "padding": null,
       "right": null,
       "top": null,
       "visibility": null,
       "width": null
      }
     },
     "298712445ded4795b24a1ecab03fcfb5": {
      "model_module": "@jupyter-widgets/base",
      "model_module_version": "1.2.0",
      "model_name": "LayoutModel",
      "state": {
       "_model_module": "@jupyter-widgets/base",
       "_model_module_version": "1.2.0",
       "_model_name": "LayoutModel",
       "_view_count": null,
       "_view_module": "@jupyter-widgets/base",
       "_view_module_version": "1.2.0",
       "_view_name": "LayoutView",
       "align_content": null,
       "align_items": null,
       "align_self": null,
       "border": null,
       "bottom": null,
       "display": null,
       "flex": null,
       "flex_flow": null,
       "grid_area": null,
       "grid_auto_columns": null,
       "grid_auto_flow": null,
       "grid_auto_rows": null,
       "grid_column": null,
       "grid_gap": null,
       "grid_row": null,
       "grid_template_areas": null,
       "grid_template_columns": null,
       "grid_template_rows": null,
       "height": null,
       "justify_content": null,
       "justify_items": null,
       "left": null,
       "margin": null,
       "max_height": null,
       "max_width": null,
       "min_height": null,
       "min_width": null,
       "object_fit": null,
       "object_position": null,
       "order": null,
       "overflow": null,
       "overflow_x": null,
       "overflow_y": null,
       "padding": null,
       "right": null,
       "top": null,
       "visibility": null,
       "width": null
      }
     },
     "2b152199f41c45d6b5c90a1f398c6be5": {
      "model_module": "@jupyter-widgets/base",
      "model_module_version": "1.2.0",
      "model_name": "LayoutModel",
      "state": {
       "_model_module": "@jupyter-widgets/base",
       "_model_module_version": "1.2.0",
       "_model_name": "LayoutModel",
       "_view_count": null,
       "_view_module": "@jupyter-widgets/base",
       "_view_module_version": "1.2.0",
       "_view_name": "LayoutView",
       "align_content": null,
       "align_items": null,
       "align_self": null,
       "border": null,
       "bottom": null,
       "display": null,
       "flex": null,
       "flex_flow": null,
       "grid_area": null,
       "grid_auto_columns": null,
       "grid_auto_flow": null,
       "grid_auto_rows": null,
       "grid_column": null,
       "grid_gap": null,
       "grid_row": null,
       "grid_template_areas": null,
       "grid_template_columns": null,
       "grid_template_rows": null,
       "height": null,
       "justify_content": null,
       "justify_items": null,
       "left": null,
       "margin": null,
       "max_height": null,
       "max_width": null,
       "min_height": null,
       "min_width": null,
       "object_fit": null,
       "object_position": null,
       "order": null,
       "overflow": null,
       "overflow_x": null,
       "overflow_y": null,
       "padding": null,
       "right": null,
       "top": null,
       "visibility": null,
       "width": null
      }
     },
     "2c648722c07042da80c80e5974323da7": {
      "model_module": "@jupyter-widgets/base",
      "model_module_version": "1.2.0",
      "model_name": "LayoutModel",
      "state": {
       "_model_module": "@jupyter-widgets/base",
       "_model_module_version": "1.2.0",
       "_model_name": "LayoutModel",
       "_view_count": null,
       "_view_module": "@jupyter-widgets/base",
       "_view_module_version": "1.2.0",
       "_view_name": "LayoutView",
       "align_content": null,
       "align_items": null,
       "align_self": null,
       "border": null,
       "bottom": null,
       "display": null,
       "flex": null,
       "flex_flow": null,
       "grid_area": null,
       "grid_auto_columns": null,
       "grid_auto_flow": null,
       "grid_auto_rows": null,
       "grid_column": null,
       "grid_gap": null,
       "grid_row": null,
       "grid_template_areas": null,
       "grid_template_columns": null,
       "grid_template_rows": null,
       "height": null,
       "justify_content": null,
       "justify_items": null,
       "left": null,
       "margin": null,
       "max_height": null,
       "max_width": null,
       "min_height": null,
       "min_width": null,
       "object_fit": null,
       "object_position": null,
       "order": null,
       "overflow": null,
       "overflow_x": null,
       "overflow_y": null,
       "padding": null,
       "right": null,
       "top": null,
       "visibility": null,
       "width": null
      }
     },
     "2fbb029c65c94f138bf9980d66f18ea9": {
      "model_module": "@jupyter-widgets/controls",
      "model_module_version": "1.5.0",
      "model_name": "HTMLModel",
      "state": {
       "_dom_classes": [],
       "_model_module": "@jupyter-widgets/controls",
       "_model_module_version": "1.5.0",
       "_model_name": "HTMLModel",
       "_view_count": null,
       "_view_module": "@jupyter-widgets/controls",
       "_view_module_version": "1.5.0",
       "_view_name": "HTMLView",
       "description": "",
       "description_tooltip": null,
       "layout": "IPY_MODEL_2b152199f41c45d6b5c90a1f398c6be5",
       "placeholder": "​",
       "style": "IPY_MODEL_717eec741f264806aa7def1165d89a04",
       "value": "computing obscured fluxes: 100%"
      }
     },
     "34547be4e3b34843bb82239b7de941aa": {
      "model_module": "@jupyter-widgets/controls",
      "model_module_version": "1.5.0",
      "model_name": "FloatProgressModel",
      "state": {
       "_dom_classes": [],
       "_model_module": "@jupyter-widgets/controls",
       "_model_module_version": "1.5.0",
       "_model_name": "FloatProgressModel",
       "_view_count": null,
       "_view_module": "@jupyter-widgets/controls",
       "_view_module_version": "1.5.0",
       "_view_name": "ProgressView",
       "bar_style": "success",
       "description": "",
       "description_tooltip": null,
       "layout": "IPY_MODEL_bae8e45e63364642badf179945e44958",
       "max": 88.0,
       "min": 0.0,
       "orientation": "horizontal",
       "style": "IPY_MODEL_4cfcd1f71a4d4c909d6672359c6766c5",
       "value": 88.0
      }
     },
     "4101f45f1d194e109d22041c20b79b33": {
      "model_module": "@jupyter-widgets/base",
      "model_module_version": "1.2.0",
      "model_name": "LayoutModel",
      "state": {
       "_model_module": "@jupyter-widgets/base",
       "_model_module_version": "1.2.0",
       "_model_name": "LayoutModel",
       "_view_count": null,
       "_view_module": "@jupyter-widgets/base",
       "_view_module_version": "1.2.0",
       "_view_name": "LayoutView",
       "align_content": null,
       "align_items": null,
       "align_self": null,
       "border": null,
       "bottom": null,
       "display": null,
       "flex": null,
       "flex_flow": null,
       "grid_area": null,
       "grid_auto_columns": null,
       "grid_auto_flow": null,
       "grid_auto_rows": null,
       "grid_column": null,
       "grid_gap": null,
       "grid_row": null,
       "grid_template_areas": null,
       "grid_template_columns": null,
       "grid_template_rows": null,
       "height": null,
       "justify_content": null,
       "justify_items": null,
       "left": null,
       "margin": null,
       "max_height": null,
       "max_width": null,
       "min_height": null,
       "min_width": null,
       "object_fit": null,
       "object_position": null,
       "order": null,
       "overflow": null,
       "overflow_x": null,
       "overflow_y": null,
       "padding": null,
       "right": null,
       "top": null,
       "visibility": null,
       "width": null
      }
     },
     "4cfcd1f71a4d4c909d6672359c6766c5": {
      "model_module": "@jupyter-widgets/controls",
      "model_module_version": "1.5.0",
      "model_name": "ProgressStyleModel",
      "state": {
       "_model_module": "@jupyter-widgets/controls",
       "_model_module_version": "1.5.0",
       "_model_name": "ProgressStyleModel",
       "_view_count": null,
       "_view_module": "@jupyter-widgets/base",
       "_view_module_version": "1.2.0",
       "_view_name": "StyleView",
       "bar_color": "#B833FF",
       "description_width": ""
      }
     },
     "4dc04b20865f4e859b4dc89d22167785": {
      "model_module": "@jupyter-widgets/controls",
      "model_module_version": "1.5.0",
      "model_name": "FloatProgressModel",
      "state": {
       "_dom_classes": [],
       "_model_module": "@jupyter-widgets/controls",
       "_model_module_version": "1.5.0",
       "_model_name": "FloatProgressModel",
       "_view_count": null,
       "_view_module": "@jupyter-widgets/controls",
       "_view_module_version": "1.5.0",
       "_view_name": "ProgressView",
       "bar_style": "success",
       "description": "",
       "description_tooltip": null,
       "layout": "IPY_MODEL_f6b00ec632654f1187f3c5a2cd377706",
       "max": 44.0,
       "min": 0.0,
       "orientation": "horizontal",
       "style": "IPY_MODEL_09b8023770874bfdbc212f7f95654515",
       "value": 44.0
      }
     },
     "4f3939ec768f45d8b750c8814a8626da": {
      "model_module": "@jupyter-widgets/controls",
      "model_module_version": "1.5.0",
      "model_name": "DescriptionStyleModel",
      "state": {
       "_model_module": "@jupyter-widgets/controls",
       "_model_module_version": "1.5.0",
       "_model_name": "DescriptionStyleModel",
       "_view_count": null,
       "_view_module": "@jupyter-widgets/base",
       "_view_module_version": "1.2.0",
       "_view_name": "StyleView",
       "description_width": ""
      }
     },
     "5086a7e9a9864d55bc93138cf907df9d": {
      "model_module": "@jupyter-widgets/controls",
      "model_module_version": "1.5.0",
      "model_name": "HTMLModel",
      "state": {
       "_dom_classes": [],
       "_model_module": "@jupyter-widgets/controls",
       "_model_module_version": "1.5.0",
       "_model_name": "HTMLModel",
       "_view_count": null,
       "_view_module": "@jupyter-widgets/controls",
       "_view_module_version": "1.5.0",
       "_view_name": "HTMLView",
       "description": "",
       "description_tooltip": null,
       "layout": "IPY_MODEL_84f0a47b146b45c393069b97c7129e8f",
       "placeholder": "​",
       "style": "IPY_MODEL_b6e91e71ae0345edbbc5193c968745fa",
       "value": "Reading GRBs: 100%"
      }
     },
     "51ad5b3c80ea40da87f5e3b8b1dfcdf1": {
      "model_module": "@jupyter-widgets/controls",
      "model_module_version": "1.5.0",
      "model_name": "ProgressStyleModel",
      "state": {
       "_model_module": "@jupyter-widgets/controls",
       "_model_module_version": "1.5.0",
       "_model_name": "ProgressStyleModel",
       "_view_count": null,
       "_view_module": "@jupyter-widgets/base",
       "_view_module_version": "1.2.0",
       "_view_name": "StyleView",
       "bar_color": "#33F0B4",
       "description_width": ""
      }
     },
     "5517a0b9737e447886185a34c358497e": {
      "model_module": "@jupyter-widgets/controls",
      "model_module_version": "1.5.0",
      "model_name": "DescriptionStyleModel",
      "state": {
       "_model_module": "@jupyter-widgets/controls",
       "_model_module_version": "1.5.0",
       "_model_name": "DescriptionStyleModel",
       "_view_count": null,
       "_view_module": "@jupyter-widgets/base",
       "_view_module_version": "1.2.0",
       "_view_name": "StyleView",
       "description_width": ""
      }
     },
     "6430bc5ace5d4069a143e4360edfced6": {
      "model_module": "@jupyter-widgets/base",
      "model_module_version": "1.2.0",
      "model_name": "LayoutModel",
      "state": {
       "_model_module": "@jupyter-widgets/base",
       "_model_module_version": "1.2.0",
       "_model_name": "LayoutModel",
       "_view_count": null,
       "_view_module": "@jupyter-widgets/base",
       "_view_module_version": "1.2.0",
       "_view_name": "LayoutView",
       "align_content": null,
       "align_items": null,
       "align_self": null,
       "border": null,
       "bottom": null,
       "display": null,
       "flex": null,
       "flex_flow": null,
       "grid_area": null,
       "grid_auto_columns": null,
       "grid_auto_flow": null,
       "grid_auto_rows": null,
       "grid_column": null,
       "grid_gap": null,
       "grid_row": null,
       "grid_template_areas": null,
       "grid_template_columns": null,
       "grid_template_rows": null,
       "height": null,
       "justify_content": null,
       "justify_items": null,
       "left": null,
       "margin": null,
       "max_height": null,
       "max_width": null,
       "min_height": null,
       "min_width": null,
       "object_fit": null,
       "object_position": null,
       "order": null,
       "overflow": null,
       "overflow_x": null,
       "overflow_y": null,
       "padding": null,
       "right": null,
       "top": null,
       "visibility": null,
       "width": null
      }
     },
     "64a5c211321e42fd871906228722452e": {
      "model_module": "jupyter-vuetify",
      "model_module_version": "^1.8.1",
      "model_name": "ThemeColorsModel",
      "state": {
       "_model_module": "jupyter-vuetify",
       "_model_module_version": "^1.8.1",
       "_model_name": "ThemeColorsModel",
       "_theme_name": "light",
       "_view_count": null,
       "_view_module": null,
       "_view_module_version": "^1.8.1",
       "_view_name": null,
       "accent": "#82B1FF",
       "anchor": null,
       "error": "#FF5252",
       "info": "#2196F3",
       "primary": "#1976D2",
       "secondary": "#424242",
       "success": "#4CAF50",
       "warning": "#FB8C00"
      }
     },
     "6ee9d60fd89d49c59e6fab606e2c9ab3": {
      "model_module": "jupyter-vue",
      "model_module_version": "^1.7.0",
      "model_name": "ForceLoadModel",
      "state": {
       "_dom_classes": [],
       "_model_module": "jupyter-vue",
       "_model_module_version": "^1.7.0",
       "_model_name": "ForceLoadModel",
       "_view_count": null,
       "_view_module": null,
       "_view_module_version": "",
       "_view_name": null,
       "layout": "IPY_MODEL_2405e7bf21b14425952da0de47a7622d"
      }
     },
     "717eec741f264806aa7def1165d89a04": {
      "model_module": "@jupyter-widgets/controls",
      "model_module_version": "1.5.0",
      "model_name": "DescriptionStyleModel",
      "state": {
       "_model_module": "@jupyter-widgets/controls",
       "_model_module_version": "1.5.0",
       "_model_name": "DescriptionStyleModel",
       "_view_count": null,
       "_view_module": "@jupyter-widgets/base",
       "_view_module_version": "1.2.0",
       "_view_name": "StyleView",
       "description_width": ""
      }
     },
     "7d861a46a4904597ae50278feacc9d7c": {
      "model_module": "@jupyter-widgets/base",
      "model_module_version": "1.2.0",
      "model_name": "LayoutModel",
      "state": {
       "_model_module": "@jupyter-widgets/base",
       "_model_module_version": "1.2.0",
       "_model_name": "LayoutModel",
       "_view_count": null,
       "_view_module": "@jupyter-widgets/base",
       "_view_module_version": "1.2.0",
       "_view_name": "LayoutView",
       "align_content": null,
       "align_items": null,
       "align_self": null,
       "border": null,
       "bottom": null,
       "display": null,
       "flex": null,
       "flex_flow": null,
       "grid_area": null,
       "grid_auto_columns": null,
       "grid_auto_flow": null,
       "grid_auto_rows": null,
       "grid_column": null,
       "grid_gap": null,
       "grid_row": null,
       "grid_template_areas": null,
       "grid_template_columns": null,
       "grid_template_rows": null,
       "height": null,
       "justify_content": null,
       "justify_items": null,
       "left": null,
       "margin": null,
       "max_height": null,
       "max_width": null,
       "min_height": null,
       "min_width": null,
       "object_fit": null,
       "object_position": null,
       "order": null,
       "overflow": null,
       "overflow_x": null,
       "overflow_y": null,
       "padding": null,
       "right": null,
       "top": null,
       "visibility": null,
       "width": null
      }
     },
     "7fd7876943d54636ba95c1f5306bd66d": {
      "model_module": "@jupyter-widgets/controls",
      "model_module_version": "1.5.0",
      "model_name": "HTMLModel",
      "state": {
       "_dom_classes": [],
       "_model_module": "@jupyter-widgets/controls",
       "_model_module_version": "1.5.0",
       "_model_name": "HTMLModel",
       "_view_count": null,
       "_view_module": "@jupyter-widgets/controls",
       "_view_module_version": "1.5.0",
       "_view_name": "HTMLView",
       "description": "",
       "description_tooltip": null,
       "layout": "IPY_MODEL_d55d22ade02b4f2e956ee1ae3f43da97",
       "placeholder": "​",
       "style": "IPY_MODEL_04fe6138b78645508bcef7b1174c51b4",
       "value": " 88/88 [00:00&lt;00:00, 3675.29it/s]"
      }
     },
     "81a0b5ff20f6486696532eedf7ec7bdb": {
      "model_module": "@jupyter-widgets/controls",
      "model_module_version": "1.5.0",
      "model_name": "HTMLModel",
      "state": {
       "_dom_classes": [],
       "_model_module": "@jupyter-widgets/controls",
       "_model_module_version": "1.5.0",
       "_model_name": "HTMLModel",
       "_view_count": null,
       "_view_module": "@jupyter-widgets/controls",
       "_view_module_version": "1.5.0",
       "_view_name": "HTMLView",
       "description": "",
       "description_tooltip": null,
       "layout": "IPY_MODEL_e1ac704652f54dfab512239b0183ed96",
       "placeholder": "​",
       "style": "IPY_MODEL_d21f9f37067a4d91a106c5d6387b17ba",
       "value": " 44/44 [01:26&lt;00:00,  1.80s/it]"
      }
     },
     "84f0a47b146b45c393069b97c7129e8f": {
      "model_module": "@jupyter-widgets/base",
      "model_module_version": "1.2.0",
      "model_name": "LayoutModel",
      "state": {
       "_model_module": "@jupyter-widgets/base",
       "_model_module_version": "1.2.0",
       "_model_name": "LayoutModel",
       "_view_count": null,
       "_view_module": "@jupyter-widgets/base",
       "_view_module_version": "1.2.0",
       "_view_name": "LayoutView",
       "align_content": null,
       "align_items": null,
       "align_self": null,
       "border": null,
       "bottom": null,
       "display": null,
       "flex": null,
       "flex_flow": null,
       "grid_area": null,
       "grid_auto_columns": null,
       "grid_auto_flow": null,
       "grid_auto_rows": null,
       "grid_column": null,
       "grid_gap": null,
       "grid_row": null,
       "grid_template_areas": null,
       "grid_template_columns": null,
       "grid_template_rows": null,
       "height": null,
       "justify_content": null,
       "justify_items": null,
       "left": null,
       "margin": null,
       "max_height": null,
       "max_width": null,
       "min_height": null,
       "min_width": null,
       "object_fit": null,
       "object_position": null,
       "order": null,
       "overflow": null,
       "overflow_x": null,
       "overflow_y": null,
       "padding": null,
       "right": null,
       "top": null,
       "visibility": null,
       "width": null
      }
     },
     "96a103aa445545cea99e4db93538c9c0": {
      "model_module": "@jupyter-widgets/controls",
      "model_module_version": "1.5.0",
      "model_name": "DescriptionStyleModel",
      "state": {
       "_model_module": "@jupyter-widgets/controls",
       "_model_module_version": "1.5.0",
       "_model_name": "DescriptionStyleModel",
       "_view_count": null,
       "_view_module": "@jupyter-widgets/base",
       "_view_module_version": "1.2.0",
       "_view_name": "StyleView",
       "description_width": ""
      }
     },
     "9a85d27f1e854933a28c5962c78241a5": {
      "model_module": "@jupyter-widgets/controls",
      "model_module_version": "1.5.0",
      "model_name": "HBoxModel",
      "state": {
       "_dom_classes": [],
       "_model_module": "@jupyter-widgets/controls",
       "_model_module_version": "1.5.0",
       "_model_name": "HBoxModel",
       "_view_count": null,
       "_view_module": "@jupyter-widgets/controls",
       "_view_module_version": "1.5.0",
       "_view_name": "HBoxView",
       "box_style": "",
       "children": [
        "IPY_MODEL_eff917e73cfa4396808d3891deef0cc6",
        "IPY_MODEL_4dc04b20865f4e859b4dc89d22167785",
        "IPY_MODEL_81a0b5ff20f6486696532eedf7ec7bdb"
       ],
       "layout": "IPY_MODEL_9b0f0a2a10d74f2e8fff3973a55accfa"
      }
     },
     "9b0f0a2a10d74f2e8fff3973a55accfa": {
      "model_module": "@jupyter-widgets/base",
      "model_module_version": "1.2.0",
      "model_name": "LayoutModel",
      "state": {
       "_model_module": "@jupyter-widgets/base",
       "_model_module_version": "1.2.0",
       "_model_name": "LayoutModel",
       "_view_count": null,
       "_view_module": "@jupyter-widgets/base",
       "_view_module_version": "1.2.0",
       "_view_name": "LayoutView",
       "align_content": null,
       "align_items": null,
       "align_self": null,
       "border": null,
       "bottom": null,
       "display": null,
       "flex": null,
       "flex_flow": null,
       "grid_area": null,
       "grid_auto_columns": null,
       "grid_auto_flow": null,
       "grid_auto_rows": null,
       "grid_column": null,
       "grid_gap": null,
       "grid_row": null,
       "grid_template_areas": null,
       "grid_template_columns": null,
       "grid_template_rows": null,
       "height": null,
       "justify_content": null,
       "justify_items": null,
       "left": null,
       "margin": null,
       "max_height": null,
       "max_width": null,
       "min_height": null,
       "min_width": null,
       "object_fit": null,
       "object_position": null,
       "order": null,
       "overflow": null,
       "overflow_x": null,
       "overflow_y": null,
       "padding": null,
       "right": null,
       "top": null,
       "visibility": null,
       "width": null
      }
     },
     "9e9a3260205d456fbfc7034ab9a80101": {
      "model_module": "@jupyter-widgets/controls",
      "model_module_version": "1.5.0",
      "model_name": "ProgressStyleModel",
      "state": {
       "_model_module": "@jupyter-widgets/controls",
       "_model_module_version": "1.5.0",
       "_model_name": "ProgressStyleModel",
       "_view_count": null,
       "_view_module": "@jupyter-widgets/base",
       "_view_module_version": "1.2.0",
       "_view_name": "StyleView",
       "bar_color": "#B833FF",
       "description_width": ""
      }
     },
     "a036be907f6549c894efc7abc12ab63b": {
      "model_module": "@jupyter-widgets/controls",
      "model_module_version": "1.5.0",
      "model_name": "HBoxModel",
      "state": {
       "_dom_classes": [],
       "_model_module": "@jupyter-widgets/controls",
       "_model_module_version": "1.5.0",
       "_model_name": "HBoxModel",
       "_view_count": null,
       "_view_module": "@jupyter-widgets/controls",
       "_view_module_version": "1.5.0",
       "_view_name": "HBoxView",
       "box_style": "",
       "children": [
        "IPY_MODEL_dcfd3ceface54be698e7c00730324e17",
        "IPY_MODEL_f69a949c69f34b57baba76076a00f9fd",
        "IPY_MODEL_7fd7876943d54636ba95c1f5306bd66d"
       ],
       "layout": "IPY_MODEL_fcb9d0252beb49458e140c6b23fcde51"
      }
     },
     "a3cc785a4f9a4b38a8561468015dbab8": {
      "model_module": "jupyter-vuetify",
      "model_module_version": "^1.8.1",
      "model_name": "ThemeModel",
      "state": {
       "_model_module": "jupyter-vuetify",
       "_model_module_version": "^1.8.1",
       "_model_name": "ThemeModel",
       "_view_count": null,
       "_view_module": null,
       "_view_module_version": "^1.8.1",
       "_view_name": null,
       "dark": null
      }
     },
     "ab44234bb34042e0bd015440132c30a5": {
      "model_module": "@jupyter-widgets/controls",
      "model_module_version": "1.5.0",
      "model_name": "FloatProgressModel",
      "state": {
       "_dom_classes": [],
       "_model_module": "@jupyter-widgets/controls",
       "_model_module_version": "1.5.0",
       "_model_name": "FloatProgressModel",
       "_view_count": null,
       "_view_module": "@jupyter-widgets/controls",
       "_view_module_version": "1.5.0",
       "_view_name": "ProgressView",
       "bar_style": "success",
       "description": "",
       "description_tooltip": null,
       "layout": "IPY_MODEL_2979cc68316a47f6946a0f2e2d10594b",
       "max": 44.0,
       "min": 0.0,
       "orientation": "horizontal",
       "style": "IPY_MODEL_51ad5b3c80ea40da87f5e3b8b1dfcdf1",
       "value": 44.0
      }
     },
     "b6e91e71ae0345edbbc5193c968745fa": {
      "model_module": "@jupyter-widgets/controls",
      "model_module_version": "1.5.0",
      "model_name": "DescriptionStyleModel",
      "state": {
       "_model_module": "@jupyter-widgets/controls",
       "_model_module_version": "1.5.0",
       "_model_name": "DescriptionStyleModel",
       "_view_count": null,
       "_view_module": "@jupyter-widgets/base",
       "_view_module_version": "1.2.0",
       "_view_name": "StyleView",
       "description_width": ""
      }
     },
     "b98f01a3f5e540efbb1fe95c1c0ca85c": {
      "model_module": "@jupyter-widgets/controls",
      "model_module_version": "1.5.0",
      "model_name": "HTMLModel",
      "state": {
       "_dom_classes": [],
       "_model_module": "@jupyter-widgets/controls",
       "_model_module_version": "1.5.0",
       "_model_name": "HTMLModel",
       "_view_count": null,
       "_view_module": "@jupyter-widgets/controls",
       "_view_module_version": "1.5.0",
       "_view_name": "HTMLView",
       "description": "",
       "description_tooltip": null,
       "layout": "IPY_MODEL_2c648722c07042da80c80e5974323da7",
       "placeholder": "​",
       "style": "IPY_MODEL_d725dd76f697411e978d97a2c3eaeb43",
       "value": " 44/44 [00:18&lt;00:00,  2.41it/s]"
      }
     },
     "bae8e45e63364642badf179945e44958": {
      "model_module": "@jupyter-widgets/base",
      "model_module_version": "1.2.0",
      "model_name": "LayoutModel",
      "state": {
       "_model_module": "@jupyter-widgets/base",
       "_model_module_version": "1.2.0",
       "_model_name": "LayoutModel",
       "_view_count": null,
       "_view_module": "@jupyter-widgets/base",
       "_view_module_version": "1.2.0",
       "_view_name": "LayoutView",
       "align_content": null,
       "align_items": null,
       "align_self": null,
       "border": null,
       "bottom": null,
       "display": null,
       "flex": null,
       "flex_flow": null,
       "grid_area": null,
       "grid_auto_columns": null,
       "grid_auto_flow": null,
       "grid_auto_rows": null,
       "grid_column": null,
       "grid_gap": null,
       "grid_row": null,
       "grid_template_areas": null,
       "grid_template_columns": null,
       "grid_template_rows": null,
       "height": null,
       "justify_content": null,
       "justify_items": null,
       "left": null,
       "margin": null,
       "max_height": null,
       "max_width": null,
       "min_height": null,
       "min_width": null,
       "object_fit": null,
       "object_position": null,
       "order": null,
       "overflow": null,
       "overflow_x": null,
       "overflow_y": null,
       "padding": null,
       "right": null,
       "top": null,
       "visibility": null,
       "width": null
      }
     },
     "bebb8894584447c2ba61d74a65026078": {
      "model_module": "@jupyter-widgets/base",
      "model_module_version": "1.2.0",
      "model_name": "LayoutModel",
      "state": {
       "_model_module": "@jupyter-widgets/base",
       "_model_module_version": "1.2.0",
       "_model_name": "LayoutModel",
       "_view_count": null,
       "_view_module": "@jupyter-widgets/base",
       "_view_module_version": "1.2.0",
       "_view_name": "LayoutView",
       "align_content": null,
       "align_items": null,
       "align_self": null,
       "border": null,
       "bottom": null,
       "display": null,
       "flex": null,
       "flex_flow": null,
       "grid_area": null,
       "grid_auto_columns": null,
       "grid_auto_flow": null,
       "grid_auto_rows": null,
       "grid_column": null,
       "grid_gap": null,
       "grid_row": null,
       "grid_template_areas": null,
       "grid_template_columns": null,
       "grid_template_rows": null,
       "height": null,
       "justify_content": null,
       "justify_items": null,
       "left": null,
       "margin": null,
       "max_height": null,
       "max_width": null,
       "min_height": null,
       "min_width": null,
       "object_fit": null,
       "object_position": null,
       "order": null,
       "overflow": null,
       "overflow_x": null,
       "overflow_y": null,
       "padding": null,
       "right": null,
       "top": null,
       "visibility": null,
       "width": null
      }
     },
     "d21f9f37067a4d91a106c5d6387b17ba": {
      "model_module": "@jupyter-widgets/controls",
      "model_module_version": "1.5.0",
      "model_name": "DescriptionStyleModel",
      "state": {
       "_model_module": "@jupyter-widgets/controls",
       "_model_module_version": "1.5.0",
       "_model_name": "DescriptionStyleModel",
       "_view_count": null,
       "_view_module": "@jupyter-widgets/base",
       "_view_module_version": "1.2.0",
       "_view_name": "StyleView",
       "description_width": ""
      }
     },
     "d31ceb3f8d914f07b20f2542e84bdc2c": {
      "model_module": "@jupyter-widgets/controls",
      "model_module_version": "1.5.0",
      "model_name": "HBoxModel",
      "state": {
       "_dom_classes": [],
       "_model_module": "@jupyter-widgets/controls",
       "_model_module_version": "1.5.0",
       "_model_name": "HBoxModel",
       "_view_count": null,
       "_view_module": "@jupyter-widgets/controls",
       "_view_module_version": "1.5.0",
       "_view_name": "HBoxView",
       "box_style": "",
       "children": [
        "IPY_MODEL_5086a7e9a9864d55bc93138cf907df9d",
        "IPY_MODEL_ab44234bb34042e0bd015440132c30a5",
        "IPY_MODEL_b98f01a3f5e540efbb1fe95c1c0ca85c"
       ],
       "layout": "IPY_MODEL_298712445ded4795b24a1ecab03fcfb5"
      }
     },
     "d55d22ade02b4f2e956ee1ae3f43da97": {
      "model_module": "@jupyter-widgets/base",
      "model_module_version": "1.2.0",
      "model_name": "LayoutModel",
      "state": {
       "_model_module": "@jupyter-widgets/base",
       "_model_module_version": "1.2.0",
       "_model_name": "LayoutModel",
       "_view_count": null,
       "_view_module": "@jupyter-widgets/base",
       "_view_module_version": "1.2.0",
       "_view_name": "LayoutView",
       "align_content": null,
       "align_items": null,
       "align_self": null,
       "border": null,
       "bottom": null,
       "display": null,
       "flex": null,
       "flex_flow": null,
       "grid_area": null,
       "grid_auto_columns": null,
       "grid_auto_flow": null,
       "grid_auto_rows": null,
       "grid_column": null,
       "grid_gap": null,
       "grid_row": null,
       "grid_template_areas": null,
       "grid_template_columns": null,
       "grid_template_rows": null,
       "height": null,
       "justify_content": null,
       "justify_items": null,
       "left": null,
       "margin": null,
       "max_height": null,
       "max_width": null,
       "min_height": null,
       "min_width": null,
       "object_fit": null,
       "object_position": null,
       "order": null,
       "overflow": null,
       "overflow_x": null,
       "overflow_y": null,
       "padding": null,
       "right": null,
       "top": null,
       "visibility": null,
       "width": null
      }
     },
     "d725dd76f697411e978d97a2c3eaeb43": {
      "model_module": "@jupyter-widgets/controls",
      "model_module_version": "1.5.0",
      "model_name": "DescriptionStyleModel",
      "state": {
       "_model_module": "@jupyter-widgets/controls",
       "_model_module_version": "1.5.0",
       "_model_name": "DescriptionStyleModel",
       "_view_count": null,
       "_view_module": "@jupyter-widgets/base",
       "_view_module_version": "1.2.0",
       "_view_name": "StyleView",
       "description_width": ""
      }
     },
     "dcfd3ceface54be698e7c00730324e17": {
      "model_module": "@jupyter-widgets/controls",
      "model_module_version": "1.5.0",
      "model_name": "HTMLModel",
      "state": {
       "_dom_classes": [],
       "_model_module": "@jupyter-widgets/controls",
       "_model_module_version": "1.5.0",
       "_model_name": "HTMLModel",
       "_view_count": null,
       "_view_module": "@jupyter-widgets/controls",
       "_view_module_version": "1.5.0",
       "_view_name": "HTMLView",
       "description": "",
       "description_tooltip": null,
       "layout": "IPY_MODEL_4101f45f1d194e109d22041c20b79b33",
       "placeholder": "​",
       "style": "IPY_MODEL_4f3939ec768f45d8b750c8814a8626da",
       "value": "Drawing distances: 100%"
      }
     },
     "e1ac704652f54dfab512239b0183ed96": {
      "model_module": "@jupyter-widgets/base",
      "model_module_version": "1.2.0",
      "model_name": "LayoutModel",
      "state": {
       "_model_module": "@jupyter-widgets/base",
       "_model_module_version": "1.2.0",
       "_model_name": "LayoutModel",
       "_view_count": null,
       "_view_module": "@jupyter-widgets/base",
       "_view_module_version": "1.2.0",
       "_view_name": "LayoutView",
       "align_content": null,
       "align_items": null,
       "align_self": null,
       "border": null,
       "bottom": null,
       "display": null,
       "flex": null,
       "flex_flow": null,
       "grid_area": null,
       "grid_auto_columns": null,
       "grid_auto_flow": null,
       "grid_auto_rows": null,
       "grid_column": null,
       "grid_gap": null,
       "grid_row": null,
       "grid_template_areas": null,
       "grid_template_columns": null,
       "grid_template_rows": null,
       "height": null,
       "justify_content": null,
       "justify_items": null,
       "left": null,
       "margin": null,
       "max_height": null,
       "max_width": null,
       "min_height": null,
       "min_width": null,
       "object_fit": null,
       "object_position": null,
       "order": null,
       "overflow": null,
       "overflow_x": null,
       "overflow_y": null,
       "padding": null,
       "right": null,
       "top": null,
       "visibility": null,
       "width": null
      }
     },
     "eff917e73cfa4396808d3891deef0cc6": {
      "model_module": "@jupyter-widgets/controls",
      "model_module_version": "1.5.0",
      "model_name": "HTMLModel",
      "state": {
       "_dom_classes": [],
       "_model_module": "@jupyter-widgets/controls",
       "_model_module_version": "1.5.0",
       "_model_name": "HTMLModel",
       "_view_count": null,
       "_view_module": "@jupyter-widgets/controls",
       "_view_module_version": "1.5.0",
       "_view_name": "HTMLView",
       "description": "",
       "description_tooltip": null,
       "layout": "IPY_MODEL_7d861a46a4904597ae50278feacc9d7c",
       "placeholder": "​",
       "style": "IPY_MODEL_5517a0b9737e447886185a34c358497e",
       "value": "Calculating the simulated datasets: 100%"
      }
     },
     "f49e55df3360493f9230b9db99277c54": {
      "model_module": "jupyter-vuetify",
      "model_module_version": "^1.8.1",
      "model_name": "ThemeColorsModel",
      "state": {
       "_model_module": "jupyter-vuetify",
       "_model_module_version": "^1.8.1",
       "_model_name": "ThemeColorsModel",
       "_theme_name": "dark",
       "_view_count": null,
       "_view_module": null,
       "_view_module_version": "^1.8.1",
       "_view_name": null,
       "accent": "#FF4081",
       "anchor": null,
       "error": "#FF5252",
       "info": "#2196F3",
       "primary": "#2196F3",
       "secondary": "#424242",
       "success": "#4CAF50",
       "warning": "#FB8C00"
      }
     },
     "f69a949c69f34b57baba76076a00f9fd": {
      "model_module": "@jupyter-widgets/controls",
      "model_module_version": "1.5.0",
      "model_name": "FloatProgressModel",
      "state": {
       "_dom_classes": [],
       "_model_module": "@jupyter-widgets/controls",
       "_model_module_version": "1.5.0",
       "_model_name": "FloatProgressModel",
       "_view_count": null,
       "_view_module": "@jupyter-widgets/controls",
       "_view_module_version": "1.5.0",
       "_view_name": "ProgressView",
       "bar_style": "success",
       "description": "",
       "description_tooltip": null,
       "layout": "IPY_MODEL_bebb8894584447c2ba61d74a65026078",
       "max": 88.0,
       "min": 0.0,
       "orientation": "horizontal",
       "style": "IPY_MODEL_9e9a3260205d456fbfc7034ab9a80101",
       "value": 88.0
      }
     },
     "f6b00ec632654f1187f3c5a2cd377706": {
      "model_module": "@jupyter-widgets/base",
      "model_module_version": "1.2.0",
      "model_name": "LayoutModel",
      "state": {
       "_model_module": "@jupyter-widgets/base",
       "_model_module_version": "1.2.0",
       "_model_name": "LayoutModel",
       "_view_count": null,
       "_view_module": "@jupyter-widgets/base",
       "_view_module_version": "1.2.0",
       "_view_name": "LayoutView",
       "align_content": null,
       "align_items": null,
       "align_self": null,
       "border": null,
       "bottom": null,
       "display": null,
       "flex": null,
       "flex_flow": null,
       "grid_area": null,
       "grid_auto_columns": null,
       "grid_auto_flow": null,
       "grid_auto_rows": null,
       "grid_column": null,
       "grid_gap": null,
       "grid_row": null,
       "grid_template_areas": null,
       "grid_template_columns": null,
       "grid_template_rows": null,
       "height": null,
       "justify_content": null,
       "justify_items": null,
       "left": null,
       "margin": null,
       "max_height": null,
       "max_width": null,
       "min_height": null,
       "min_width": null,
       "object_fit": null,
       "object_position": null,
       "order": null,
       "overflow": null,
       "overflow_x": null,
       "overflow_y": null,
       "padding": null,
       "right": null,
       "top": null,
       "visibility": null,
       "width": null
      }
     },
     "fcb9d0252beb49458e140c6b23fcde51": {
      "model_module": "@jupyter-widgets/base",
      "model_module_version": "1.2.0",
      "model_name": "LayoutModel",
      "state": {
       "_model_module": "@jupyter-widgets/base",
       "_model_module_version": "1.2.0",
       "_model_name": "LayoutModel",
       "_view_count": null,
       "_view_module": "@jupyter-widgets/base",
       "_view_module_version": "1.2.0",
       "_view_name": "LayoutView",
       "align_content": null,
       "align_items": null,
       "align_self": null,
       "border": null,
       "bottom": null,
       "display": null,
       "flex": null,
       "flex_flow": null,
       "grid_area": null,
       "grid_auto_columns": null,
       "grid_auto_flow": null,
       "grid_auto_rows": null,
       "grid_column": null,
       "grid_gap": null,
       "grid_row": null,
       "grid_template_areas": null,
       "grid_template_columns": null,
       "grid_template_rows": null,
       "height": null,
       "justify_content": null,
       "justify_items": null,
       "left": null,
       "margin": null,
       "max_height": null,
       "max_width": null,
       "min_height": null,
       "min_width": null,
       "object_fit": null,
       "object_position": null,
       "order": null,
       "overflow": null,
       "overflow_x": null,
       "overflow_y": null,
       "padding": null,
       "right": null,
       "top": null,
       "visibility": null,
       "width": null
      }
     }
    },
    "version_major": 2,
    "version_minor": 0
   }
  }
 },
 "nbformat": 4,
 "nbformat_minor": 5
}
